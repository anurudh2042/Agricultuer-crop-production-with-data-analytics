{
 "cells": [
  {
   "cell_type": "code",
   "execution_count": 1,
   "id": "30bd38a4",
   "metadata": {
    "_cell_guid": "b1076dfc-b9ad-4769-8c92-a6c4dae69d19",
    "_uuid": "8f2839f25d086af736a60e9eeb907d3b93b6e0e5",
    "execution": {
     "iopub.execute_input": "2023-03-04T20:50:36.176420Z",
     "iopub.status.busy": "2023-03-04T20:50:36.176100Z",
     "iopub.status.idle": "2023-03-04T20:50:36.191383Z",
     "shell.execute_reply": "2023-03-04T20:50:36.190664Z"
    },
    "papermill": {
     "duration": 0.037174,
     "end_time": "2023-03-04T20:50:36.194400",
     "exception": false,
     "start_time": "2023-03-04T20:50:36.157226",
     "status": "completed"
    },
    "tags": []
   },
   "outputs": [],
   "source": [
    "# This Python 3 environment comes with many helpful analytics libraries installed\n",
    "# It is defined by the kaggle/python Docker image: https://github.com/kaggle/docker-python\n",
    "# For example, here's several helpful packages to load\n",
    "\n",
    "import numpy as np # linear algebra\n",
    "import pandas as pd # data processing, CSV file I/O (e.g. pd.read_csv)\n",
    "\n",
    "# Input data files are available in the read-only \"../input/\" directory\n",
    "# For example, running this (by clicking run or pressing Shift+Enter) will list all files under the input directory\n",
    "\n",
    "import os\n",
    "for dirname, _, filenames in os.walk('/kaggle/input'):\n",
    "    for filename in filenames:\n",
    "        print(os.path.join(dirname, filename))\n",
    "\n",
    "# You can write up to 20GB to the current directory (/kaggle/working/) that gets preserved as output when you create a version using \"Save & Run All\" \n",
    "# You can also write temporary files to /kaggle/temp/, but they won't be saved outside of the current session"
   ]
  },
  {
   "cell_type": "code",
   "execution_count": 2,
   "id": "042f1441",
   "metadata": {
    "execution": {
     "iopub.execute_input": "2023-03-04T20:50:36.229719Z",
     "iopub.status.busy": "2023-03-04T20:50:36.229139Z",
     "iopub.status.idle": "2023-03-04T20:50:37.279511Z",
     "shell.execute_reply": "2023-03-04T20:50:37.278540Z"
    },
    "papermill": {
     "duration": 1.070534,
     "end_time": "2023-03-04T20:50:37.282037",
     "exception": false,
     "start_time": "2023-03-04T20:50:36.211503",
     "status": "completed"
    },
    "tags": []
   },
   "outputs": [],
   "source": [
    "import ast\n",
    "import numpy as np\n",
    "import pandas as pd\n",
    "import matplotlib.pyplot as plt\n",
    "%matplotlib inline\n",
    "import seaborn as sns\n",
    "import warnings\n",
    "warnings.filterwarnings(\"ignore\")\n",
    "sns.set_style('whitegrid')\n"
   ]
  },
  {
   "cell_type": "code",
   "execution_count": 3,
   "id": "15515607",
   "metadata": {
    "execution": {
     "iopub.execute_input": "2023-03-04T20:50:37.312804Z",
     "iopub.status.busy": "2023-03-04T20:50:37.312496Z",
     "iopub.status.idle": "2023-03-04T20:50:38.044664Z",
     "shell.execute_reply": "2023-03-04T20:50:38.043164Z"
    },
    "papermill": {
     "duration": 0.750224,
     "end_time": "2023-03-04T20:50:38.047138",
     "exception": false,
     "start_time": "2023-03-04T20:50:37.296914",
     "status": "completed"
    },
    "tags": []
   },
   "outputs": [],
   "source": [
    "df=pd.read_csv('agriculture.csv')"
   ]
  },
  {
   "cell_type": "code",
   "execution_count": 4,
   "id": "3c8ec50b",
   "metadata": {
    "execution": {
     "iopub.execute_input": "2023-03-04T20:50:38.077737Z",
     "iopub.status.busy": "2023-03-04T20:50:38.077409Z",
     "iopub.status.idle": "2023-03-04T20:50:38.144843Z",
     "shell.execute_reply": "2023-03-04T20:50:38.143784Z"
    },
    "papermill": {
     "duration": 0.085359,
     "end_time": "2023-03-04T20:50:38.147201",
     "exception": false,
     "start_time": "2023-03-04T20:50:38.061842",
     "status": "completed"
    },
    "tags": []
   },
   "outputs": [],
   "source": [
    "df=df.sample(frac=0.25)"
   ]
  },
  {
   "cell_type": "code",
   "execution_count": 5,
   "id": "6c7a7003",
   "metadata": {
    "execution": {
     "iopub.execute_input": "2023-03-04T20:50:38.180138Z",
     "iopub.status.busy": "2023-03-04T20:50:38.179768Z",
     "iopub.status.idle": "2023-03-04T20:50:38.187596Z",
     "shell.execute_reply": "2023-03-04T20:50:38.186489Z"
    },
    "papermill": {
     "duration": 0.027033,
     "end_time": "2023-03-04T20:50:38.190055",
     "exception": false,
     "start_time": "2023-03-04T20:50:38.163022",
     "status": "completed"
    },
    "tags": []
   },
   "outputs": [
    {
     "data": {
      "text/plain": [
       "(86352, 10)"
      ]
     },
     "execution_count": 5,
     "metadata": {},
     "output_type": "execute_result"
    }
   ],
   "source": [
    "df.shape\n"
   ]
  },
  {
   "cell_type": "code",
   "execution_count": 6,
   "id": "13e6ff8f",
   "metadata": {
    "execution": {
     "iopub.execute_input": "2023-03-04T20:50:38.221533Z",
     "iopub.status.busy": "2023-03-04T20:50:38.221135Z",
     "iopub.status.idle": "2023-03-04T20:50:38.256638Z",
     "shell.execute_reply": "2023-03-04T20:50:38.255422Z"
    },
    "papermill": {
     "duration": 0.053678,
     "end_time": "2023-03-04T20:50:38.258786",
     "exception": false,
     "start_time": "2023-03-04T20:50:38.205108",
     "status": "completed"
    },
    "tags": []
   },
   "outputs": [
    {
     "data": {
      "text/plain": [
       "State                  0\n",
       "District               0\n",
       "Crop                   6\n",
       "Year                   0\n",
       "Season                 1\n",
       "Area                   7\n",
       "Area Units             0\n",
       "Production          1290\n",
       "Production Units       0\n",
       "Yield                  7\n",
       "dtype: int64"
      ]
     },
     "execution_count": 6,
     "metadata": {},
     "output_type": "execute_result"
    }
   ],
   "source": [
    "df.isnull().sum()"
   ]
  },
  {
   "cell_type": "code",
   "execution_count": 7,
   "id": "2c22d61a",
   "metadata": {
    "execution": {
     "iopub.execute_input": "2023-03-04T20:50:38.291452Z",
     "iopub.status.busy": "2023-03-04T20:50:38.290659Z",
     "iopub.status.idle": "2023-03-04T20:50:38.333485Z",
     "shell.execute_reply": "2023-03-04T20:50:38.332545Z"
    },
    "papermill": {
     "duration": 0.061035,
     "end_time": "2023-03-04T20:50:38.335562",
     "exception": false,
     "start_time": "2023-03-04T20:50:38.274527",
     "status": "completed"
    },
    "tags": []
   },
   "outputs": [
    {
     "name": "stdout",
     "output_type": "stream",
     "text": [
      "<class 'pandas.core.frame.DataFrame'>\n",
      "Index: 86352 entries, 121231 to 146124\n",
      "Data columns (total 10 columns):\n",
      " #   Column            Non-Null Count  Dtype  \n",
      "---  ------            --------------  -----  \n",
      " 0   State             86352 non-null  object \n",
      " 1   District          86352 non-null  object \n",
      " 2   Crop              86346 non-null  object \n",
      " 3   Year              86352 non-null  object \n",
      " 4   Season            86351 non-null  object \n",
      " 5   Area              86345 non-null  float64\n",
      " 6   Area Units        86352 non-null  object \n",
      " 7   Production        85062 non-null  float64\n",
      " 8   Production Units  86352 non-null  object \n",
      " 9   Yield             86345 non-null  float64\n",
      "dtypes: float64(3), object(7)\n",
      "memory usage: 7.2+ MB\n"
     ]
    }
   ],
   "source": [
    "df.info()\n"
   ]
  },
  {
   "cell_type": "code",
   "execution_count": 8,
   "id": "668c4140",
   "metadata": {
    "execution": {
     "iopub.execute_input": "2023-03-04T20:50:38.368426Z",
     "iopub.status.busy": "2023-03-04T20:50:38.367931Z",
     "iopub.status.idle": "2023-03-04T20:50:38.460501Z",
     "shell.execute_reply": "2023-03-04T20:50:38.458982Z"
    },
    "papermill": {
     "duration": 0.111368,
     "end_time": "2023-03-04T20:50:38.462647",
     "exception": false,
     "start_time": "2023-03-04T20:50:38.351279",
     "status": "completed"
    },
    "tags": []
   },
   "outputs": [
    {
     "data": {
      "text/html": [
       "<div>\n",
       "<style scoped>\n",
       "    .dataframe tbody tr th:only-of-type {\n",
       "        vertical-align: middle;\n",
       "    }\n",
       "\n",
       "    .dataframe tbody tr th {\n",
       "        vertical-align: top;\n",
       "    }\n",
       "\n",
       "    .dataframe thead th {\n",
       "        text-align: right;\n",
       "    }\n",
       "</style>\n",
       "<table border=\"1\" class=\"dataframe\">\n",
       "  <thead>\n",
       "    <tr style=\"text-align: right;\">\n",
       "      <th></th>\n",
       "      <th>State</th>\n",
       "      <th>District</th>\n",
       "      <th>Crop</th>\n",
       "      <th>Year</th>\n",
       "      <th>Season</th>\n",
       "      <th>Area Units</th>\n",
       "      <th>Production Units</th>\n",
       "    </tr>\n",
       "  </thead>\n",
       "  <tbody>\n",
       "    <tr>\n",
       "      <th>count</th>\n",
       "      <td>86352</td>\n",
       "      <td>86352</td>\n",
       "      <td>86346</td>\n",
       "      <td>86352</td>\n",
       "      <td>86351</td>\n",
       "      <td>86352</td>\n",
       "      <td>86352</td>\n",
       "    </tr>\n",
       "    <tr>\n",
       "      <th>unique</th>\n",
       "      <td>36</td>\n",
       "      <td>721</td>\n",
       "      <td>56</td>\n",
       "      <td>24</td>\n",
       "      <td>6</td>\n",
       "      <td>1</td>\n",
       "      <td>3</td>\n",
       "    </tr>\n",
       "    <tr>\n",
       "      <th>top</th>\n",
       "      <td>Uttar Pradesh</td>\n",
       "      <td>BIJAPUR</td>\n",
       "      <td>Rice</td>\n",
       "      <td>2019-20</td>\n",
       "      <td>Kharif</td>\n",
       "      <td>Hectare</td>\n",
       "      <td>Tonnes</td>\n",
       "    </tr>\n",
       "    <tr>\n",
       "      <th>freq</th>\n",
       "      <td>11172</td>\n",
       "      <td>327</td>\n",
       "      <td>5434</td>\n",
       "      <td>4744</td>\n",
       "      <td>34694</td>\n",
       "      <td>86352</td>\n",
       "      <td>82875</td>\n",
       "    </tr>\n",
       "  </tbody>\n",
       "</table>\n",
       "</div>"
      ],
      "text/plain": [
       "                State District   Crop     Year  Season Area Units  \\\n",
       "count           86352    86352  86346    86352   86351      86352   \n",
       "unique             36      721     56       24       6          1   \n",
       "top     Uttar Pradesh  BIJAPUR   Rice  2019-20  Kharif    Hectare   \n",
       "freq            11172      327   5434     4744   34694      86352   \n",
       "\n",
       "       Production Units  \n",
       "count             86352  \n",
       "unique                3  \n",
       "top              Tonnes  \n",
       "freq              82875  "
      ]
     },
     "execution_count": 8,
     "metadata": {},
     "output_type": "execute_result"
    }
   ],
   "source": [
    "df.describe(include='object')"
   ]
  },
  {
   "cell_type": "code",
   "execution_count": 9,
   "id": "01f38567",
   "metadata": {
    "execution": {
     "iopub.execute_input": "2023-03-04T20:50:38.494272Z",
     "iopub.status.busy": "2023-03-04T20:50:38.493917Z",
     "iopub.status.idle": "2023-03-04T20:50:38.549694Z",
     "shell.execute_reply": "2023-03-04T20:50:38.548642Z"
    },
    "papermill": {
     "duration": 0.074258,
     "end_time": "2023-03-04T20:50:38.552234",
     "exception": false,
     "start_time": "2023-03-04T20:50:38.477976",
     "status": "completed"
    },
    "tags": []
   },
   "outputs": [],
   "source": [
    "df.dropna(inplace=True)\n",
    "df.drop(df[df['Crop']== 'Dry Ginger'].index, inplace = True)"
   ]
  },
  {
   "cell_type": "code",
   "execution_count": 10,
   "id": "d4de10df",
   "metadata": {
    "execution": {
     "iopub.execute_input": "2023-03-04T20:50:38.585952Z",
     "iopub.status.busy": "2023-03-04T20:50:38.584361Z",
     "iopub.status.idle": "2023-03-04T20:50:38.597700Z",
     "shell.execute_reply": "2023-03-04T20:50:38.596742Z"
    },
    "papermill": {
     "duration": 0.032431,
     "end_time": "2023-03-04T20:50:38.600578",
     "exception": false,
     "start_time": "2023-03-04T20:50:38.568147",
     "status": "completed"
    },
    "tags": []
   },
   "outputs": [
    {
     "data": {
      "text/plain": [
       "Crop\n",
       "Rice                     5421\n",
       "Maize                    5163\n",
       "Moong(Green Gram)        3655\n",
       "Urad                     3613\n",
       "Sesamum                  3185\n",
       "Groundnut                3063\n",
       "Onion                    2752\n",
       "Wheat                    2749\n",
       "Rapeseed &Mustard        2710\n",
       "Arhar/Tur                2671\n",
       "Sugarcane                2658\n",
       "Potato                   2560\n",
       "Gram                     2514\n",
       "Jowar                    2452\n",
       "Dry chillies             2255\n",
       "Bajra                    1929\n",
       "Peas & beans (Pulses)    1780\n",
       "Sunflower                1767\n",
       "Small millets            1736\n",
       "Cotton(lint)             1589\n",
       "Masoor                   1566\n",
       "Ragi                     1485\n",
       "Turmeric                 1465\n",
       "Barley                   1453\n",
       "Sweet potato             1425\n",
       "Linseed                  1413\n",
       "Other Kharif pulses      1396\n",
       "Horse-gram               1296\n",
       "Garlic                   1270\n",
       "Coriander                1260\n",
       "Soyabean                 1259\n",
       "Ginger                   1176\n",
       "Castor seed              1127\n",
       "Other Rabi pulses        1124\n",
       "Banana                   1075\n",
       "Tobacco                   881\n",
       "Coconut                   726\n",
       "Sannhamp                  721\n",
       "Niger seed                677\n",
       "Mesta                     601\n",
       "Tapioca                   580\n",
       "Arecanut                  532\n",
       "Guar seed                 525\n",
       "Jute                      491\n",
       "Khesari                   465\n",
       "Safflower                 449\n",
       "Cowpea(Lobia)             415\n",
       "Cashewnut                 365\n",
       "Moth                      341\n",
       "Other Cereals             331\n",
       "Black pepper              324\n",
       "other oilseeds            322\n",
       "Oilseeds total            179\n",
       "Cardamom                  111\n",
       "Other Summer Pulses        13\n",
       "Name: count, dtype: int64"
      ]
     },
     "execution_count": 10,
     "metadata": {},
     "output_type": "execute_result"
    }
   ],
   "source": [
    "df['Crop'].value_counts()"
   ]
  },
  {
   "cell_type": "markdown",
   "id": "b1cb3703",
   "metadata": {
    "papermill": {
     "duration": 0.015459,
     "end_time": "2023-03-04T20:50:38.631938",
     "exception": false,
     "start_time": "2023-03-04T20:50:38.616479",
     "status": "completed"
    },
    "tags": []
   },
   "source": [
    "# Exploratory  Data Analysis"
   ]
  },
  {
   "cell_type": "code",
   "execution_count": 11,
   "id": "467587b2",
   "metadata": {
    "execution": {
     "iopub.execute_input": "2023-03-04T20:50:38.665565Z",
     "iopub.status.busy": "2023-03-04T20:50:38.664984Z",
     "iopub.status.idle": "2023-03-04T20:50:38.685881Z",
     "shell.execute_reply": "2023-03-04T20:50:38.684414Z"
    },
    "papermill": {
     "duration": 0.040506,
     "end_time": "2023-03-04T20:50:38.688165",
     "exception": false,
     "start_time": "2023-03-04T20:50:38.647659",
     "status": "completed"
    },
    "tags": []
   },
   "outputs": [
    {
     "data": {
      "text/html": [
       "<div>\n",
       "<style scoped>\n",
       "    .dataframe tbody tr th:only-of-type {\n",
       "        vertical-align: middle;\n",
       "    }\n",
       "\n",
       "    .dataframe tbody tr th {\n",
       "        vertical-align: top;\n",
       "    }\n",
       "\n",
       "    .dataframe thead th {\n",
       "        text-align: right;\n",
       "    }\n",
       "</style>\n",
       "<table border=\"1\" class=\"dataframe\">\n",
       "  <thead>\n",
       "    <tr style=\"text-align: right;\">\n",
       "      <th></th>\n",
       "      <th>State</th>\n",
       "      <th>District</th>\n",
       "      <th>Crop</th>\n",
       "      <th>Year</th>\n",
       "      <th>Season</th>\n",
       "      <th>Area</th>\n",
       "      <th>Area Units</th>\n",
       "      <th>Production</th>\n",
       "      <th>Production Units</th>\n",
       "      <th>Yield</th>\n",
       "    </tr>\n",
       "  </thead>\n",
       "  <tbody>\n",
       "    <tr>\n",
       "      <th>121231</th>\n",
       "      <td>Tripura</td>\n",
       "      <td>WEST TRIPURA</td>\n",
       "      <td>Arhar/Tur</td>\n",
       "      <td>2009-10</td>\n",
       "      <td>Kharif</td>\n",
       "      <td>257.0</td>\n",
       "      <td>Hectare</td>\n",
       "      <td>185.0</td>\n",
       "      <td>Tonnes</td>\n",
       "      <td>0.719844</td>\n",
       "    </tr>\n",
       "    <tr>\n",
       "      <th>112176</th>\n",
       "      <td>Meghalaya</td>\n",
       "      <td>EAST JAINTIA HILLS</td>\n",
       "      <td>Maize</td>\n",
       "      <td>2009-10</td>\n",
       "      <td>Kharif</td>\n",
       "      <td>3028.0</td>\n",
       "      <td>Hectare</td>\n",
       "      <td>3590.0</td>\n",
       "      <td>Tonnes</td>\n",
       "      <td>1.185601</td>\n",
       "    </tr>\n",
       "    <tr>\n",
       "      <th>33978</th>\n",
       "      <td>Tamil Nadu</td>\n",
       "      <td>THENI</td>\n",
       "      <td>Sweet potato</td>\n",
       "      <td>2002-03</td>\n",
       "      <td>Whole Year</td>\n",
       "      <td>2.0</td>\n",
       "      <td>Hectare</td>\n",
       "      <td>27.0</td>\n",
       "      <td>Tonnes</td>\n",
       "      <td>13.500000</td>\n",
       "    </tr>\n",
       "    <tr>\n",
       "      <th>337524</th>\n",
       "      <td>Uttar Pradesh</td>\n",
       "      <td>LUCKNOW</td>\n",
       "      <td>Linseed</td>\n",
       "      <td>1998-99</td>\n",
       "      <td>Rabi</td>\n",
       "      <td>73.0</td>\n",
       "      <td>Hectare</td>\n",
       "      <td>28.0</td>\n",
       "      <td>Tonnes</td>\n",
       "      <td>0.383562</td>\n",
       "    </tr>\n",
       "    <tr>\n",
       "      <th>177092</th>\n",
       "      <td>Andhra Pradesh</td>\n",
       "      <td>VISAKHAPATANAM</td>\n",
       "      <td>Cowpea(Lobia)</td>\n",
       "      <td>2015-16</td>\n",
       "      <td>Rabi</td>\n",
       "      <td>554.0</td>\n",
       "      <td>Hectare</td>\n",
       "      <td>187.0</td>\n",
       "      <td>Tonnes</td>\n",
       "      <td>0.337545</td>\n",
       "    </tr>\n",
       "    <tr>\n",
       "      <th>...</th>\n",
       "      <td>...</td>\n",
       "      <td>...</td>\n",
       "      <td>...</td>\n",
       "      <td>...</td>\n",
       "      <td>...</td>\n",
       "      <td>...</td>\n",
       "      <td>...</td>\n",
       "      <td>...</td>\n",
       "      <td>...</td>\n",
       "      <td>...</td>\n",
       "    </tr>\n",
       "    <tr>\n",
       "      <th>239025</th>\n",
       "      <td>Haryana</td>\n",
       "      <td>MAHENDRAGARH</td>\n",
       "      <td>Garlic</td>\n",
       "      <td>2017-18</td>\n",
       "      <td>Whole Year</td>\n",
       "      <td>12.0</td>\n",
       "      <td>Hectare</td>\n",
       "      <td>220.0</td>\n",
       "      <td>Tonnes</td>\n",
       "      <td>18.333333</td>\n",
       "    </tr>\n",
       "    <tr>\n",
       "      <th>111610</th>\n",
       "      <td>Manipur</td>\n",
       "      <td>CHURACHANDPUR</td>\n",
       "      <td>Banana</td>\n",
       "      <td>2007-08</td>\n",
       "      <td>Whole Year</td>\n",
       "      <td>4400.0</td>\n",
       "      <td>Hectare</td>\n",
       "      <td>56590.0</td>\n",
       "      <td>Tonnes</td>\n",
       "      <td>12.861364</td>\n",
       "    </tr>\n",
       "    <tr>\n",
       "      <th>318259</th>\n",
       "      <td>Madhya Pradesh</td>\n",
       "      <td>UMARIA</td>\n",
       "      <td>Barley</td>\n",
       "      <td>1998-99</td>\n",
       "      <td>Rabi</td>\n",
       "      <td>700.0</td>\n",
       "      <td>Hectare</td>\n",
       "      <td>400.0</td>\n",
       "      <td>Tonnes</td>\n",
       "      <td>0.571429</td>\n",
       "    </tr>\n",
       "    <tr>\n",
       "      <th>134789</th>\n",
       "      <td>Assam</td>\n",
       "      <td>DIMA HASAO</td>\n",
       "      <td>Rice</td>\n",
       "      <td>2011-12</td>\n",
       "      <td>Autumn</td>\n",
       "      <td>6590.0</td>\n",
       "      <td>Hectare</td>\n",
       "      <td>8923.0</td>\n",
       "      <td>Tonnes</td>\n",
       "      <td>1.354021</td>\n",
       "    </tr>\n",
       "    <tr>\n",
       "      <th>146124</th>\n",
       "      <td>Jharkhand</td>\n",
       "      <td>GODDA</td>\n",
       "      <td>Potato</td>\n",
       "      <td>2011-12</td>\n",
       "      <td>Rabi</td>\n",
       "      <td>586.0</td>\n",
       "      <td>Hectare</td>\n",
       "      <td>3150.0</td>\n",
       "      <td>Tonnes</td>\n",
       "      <td>5.375427</td>\n",
       "    </tr>\n",
       "  </tbody>\n",
       "</table>\n",
       "<p>85061 rows × 10 columns</p>\n",
       "</div>"
      ],
      "text/plain": [
       "                 State            District           Crop     Year  \\\n",
       "121231         Tripura        WEST TRIPURA      Arhar/Tur  2009-10   \n",
       "112176       Meghalaya  EAST JAINTIA HILLS          Maize  2009-10   \n",
       "33978       Tamil Nadu               THENI   Sweet potato  2002-03   \n",
       "337524   Uttar Pradesh             LUCKNOW        Linseed  1998-99   \n",
       "177092  Andhra Pradesh      VISAKHAPATANAM  Cowpea(Lobia)  2015-16   \n",
       "...                ...                 ...            ...      ...   \n",
       "239025         Haryana        MAHENDRAGARH         Garlic  2017-18   \n",
       "111610         Manipur       CHURACHANDPUR         Banana  2007-08   \n",
       "318259  Madhya Pradesh              UMARIA         Barley  1998-99   \n",
       "134789           Assam          DIMA HASAO           Rice  2011-12   \n",
       "146124       Jharkhand               GODDA         Potato  2011-12   \n",
       "\n",
       "            Season    Area Area Units  Production Production Units      Yield  \n",
       "121231      Kharif   257.0    Hectare       185.0           Tonnes   0.719844  \n",
       "112176      Kharif  3028.0    Hectare      3590.0           Tonnes   1.185601  \n",
       "33978   Whole Year     2.0    Hectare        27.0           Tonnes  13.500000  \n",
       "337524        Rabi    73.0    Hectare        28.0           Tonnes   0.383562  \n",
       "177092        Rabi   554.0    Hectare       187.0           Tonnes   0.337545  \n",
       "...            ...     ...        ...         ...              ...        ...  \n",
       "239025  Whole Year    12.0    Hectare       220.0           Tonnes  18.333333  \n",
       "111610  Whole Year  4400.0    Hectare     56590.0           Tonnes  12.861364  \n",
       "318259        Rabi   700.0    Hectare       400.0           Tonnes   0.571429  \n",
       "134789      Autumn  6590.0    Hectare      8923.0           Tonnes   1.354021  \n",
       "146124        Rabi   586.0    Hectare      3150.0           Tonnes   5.375427  \n",
       "\n",
       "[85061 rows x 10 columns]"
      ]
     },
     "execution_count": 11,
     "metadata": {},
     "output_type": "execute_result"
    }
   ],
   "source": [
    "df\n"
   ]
  },
  {
   "cell_type": "code",
   "execution_count": 12,
   "id": "df2674f2",
   "metadata": {
    "execution": {
     "iopub.execute_input": "2023-03-04T20:50:38.722465Z",
     "iopub.status.busy": "2023-03-04T20:50:38.722098Z",
     "iopub.status.idle": "2023-03-04T20:50:38.735799Z",
     "shell.execute_reply": "2023-03-04T20:50:38.734497Z"
    },
    "papermill": {
     "duration": 0.034019,
     "end_time": "2023-03-04T20:50:38.738473",
     "exception": false,
     "start_time": "2023-03-04T20:50:38.704454",
     "status": "completed"
    },
    "tags": []
   },
   "outputs": [
    {
     "data": {
      "text/plain": [
       "State\n",
       "Uttar Pradesh                  11135\n",
       "Madhya Pradesh                  7366\n",
       "Karnataka                       6789\n",
       "Bihar                           6102\n",
       "Rajasthan                       5112\n",
       "Assam                           4569\n",
       "Maharashtra                     4432\n",
       "Tamil Nadu                      4421\n",
       "Andhra Pradesh                  4134\n",
       "Odisha                          4011\n",
       "Chhattisgarh                    3633\n",
       "Gujarat                         3363\n",
       "West Bengal                     3186\n",
       "Uttarakhand                     1686\n",
       "Haryana                         1646\n",
       "Nagaland                        1367\n",
       "Jharkhand                       1267\n",
       "Himachal Pradesh                1246\n",
       "Telangana                       1161\n",
       "Kerala                          1155\n",
       "Jammu and Kashmir               1117\n",
       "Meghalaya                       1094\n",
       "Arunachal Pradesh               1088\n",
       "Punjab                          1020\n",
       "Manipur                          778\n",
       "Tripura                          647\n",
       "Mizoram                          553\n",
       "Puducherry                       276\n",
       "Sikkim                           212\n",
       "Andaman and Nicobar Islands      193\n",
       "Goa                              114\n",
       "Dadra and Nagar Haveli            88\n",
       "Delhi                             50\n",
       "Chandigarh                        37\n",
       "Daman and Diu                     12\n",
       "Laddakh                            1\n",
       "Name: count, dtype: int64"
      ]
     },
     "execution_count": 12,
     "metadata": {},
     "output_type": "execute_result"
    }
   ],
   "source": [
    "df['State'].value_counts()"
   ]
  },
  {
   "cell_type": "code",
   "execution_count": 13,
   "id": "7031e1df",
   "metadata": {
    "execution": {
     "iopub.execute_input": "2023-03-04T20:50:38.771482Z",
     "iopub.status.busy": "2023-03-04T20:50:38.771093Z",
     "iopub.status.idle": "2023-03-04T20:50:38.837095Z",
     "shell.execute_reply": "2023-03-04T20:50:38.836116Z"
    },
    "papermill": {
     "duration": 0.0858,
     "end_time": "2023-03-04T20:50:38.840022",
     "exception": false,
     "start_time": "2023-03-04T20:50:38.754222",
     "status": "completed"
    },
    "tags": []
   },
   "outputs": [
    {
     "data": {
      "text/plain": [
       "0"
      ]
     },
     "execution_count": 13,
     "metadata": {},
     "output_type": "execute_result"
    }
   ],
   "source": [
    "df.duplicated().sum()"
   ]
  },
  {
   "cell_type": "markdown",
   "id": "47b834e1",
   "metadata": {
    "papermill": {
     "duration": 0.015777,
     "end_time": "2023-03-04T20:50:38.872033",
     "exception": false,
     "start_time": "2023-03-04T20:50:38.856256",
     "status": "completed"
    },
    "tags": []
   },
   "source": [
    "**So,we don't have any duplicate value **"
   ]
  },
  {
   "cell_type": "code",
   "execution_count": 14,
   "id": "d75129b0",
   "metadata": {
    "execution": {
     "iopub.execute_input": "2023-03-04T20:50:38.905323Z",
     "iopub.status.busy": "2023-03-04T20:50:38.904981Z",
     "iopub.status.idle": "2023-03-04T20:50:38.909878Z",
     "shell.execute_reply": "2023-03-04T20:50:38.908963Z"
    },
    "papermill": {
     "duration": 0.023993,
     "end_time": "2023-03-04T20:50:38.911759",
     "exception": false,
     "start_time": "2023-03-04T20:50:38.887766",
     "status": "completed"
    },
    "tags": []
   },
   "outputs": [],
   "source": [
    "g=df.groupby('State')"
   ]
  },
  {
   "cell_type": "code",
   "execution_count": 15,
   "id": "ad9aa2d9",
   "metadata": {
    "execution": {
     "iopub.execute_input": "2023-03-04T20:50:38.944596Z",
     "iopub.status.busy": "2023-03-04T20:50:38.944270Z",
     "iopub.status.idle": "2023-03-04T20:50:38.961475Z",
     "shell.execute_reply": "2023-03-04T20:50:38.960452Z"
    },
    "papermill": {
     "duration": 0.035682,
     "end_time": "2023-03-04T20:50:38.963471",
     "exception": false,
     "start_time": "2023-03-04T20:50:38.927789",
     "status": "completed"
    },
    "tags": []
   },
   "outputs": [],
   "source": [
    "dist=g.get_group('Bihar')"
   ]
  },
  {
   "cell_type": "code",
   "execution_count": 16,
   "id": "bf455590",
   "metadata": {
    "execution": {
     "iopub.execute_input": "2023-03-04T20:50:38.999762Z",
     "iopub.status.busy": "2023-03-04T20:50:38.999060Z",
     "iopub.status.idle": "2023-03-04T20:50:39.023181Z",
     "shell.execute_reply": "2023-03-04T20:50:39.022360Z"
    },
    "papermill": {
     "duration": 0.045671,
     "end_time": "2023-03-04T20:50:39.025293",
     "exception": false,
     "start_time": "2023-03-04T20:50:38.979622",
     "status": "completed"
    },
    "tags": []
   },
   "outputs": [
    {
     "data": {
      "text/html": [
       "<div>\n",
       "<style scoped>\n",
       "    .dataframe tbody tr th:only-of-type {\n",
       "        vertical-align: middle;\n",
       "    }\n",
       "\n",
       "    .dataframe tbody tr th {\n",
       "        vertical-align: top;\n",
       "    }\n",
       "\n",
       "    .dataframe thead th {\n",
       "        text-align: right;\n",
       "    }\n",
       "</style>\n",
       "<table border=\"1\" class=\"dataframe\">\n",
       "  <thead>\n",
       "    <tr style=\"text-align: right;\">\n",
       "      <th></th>\n",
       "      <th>State</th>\n",
       "      <th>District</th>\n",
       "      <th>Crop</th>\n",
       "      <th>Year</th>\n",
       "      <th>Season</th>\n",
       "      <th>Area</th>\n",
       "      <th>Area Units</th>\n",
       "      <th>Production</th>\n",
       "      <th>Production Units</th>\n",
       "      <th>Yield</th>\n",
       "    </tr>\n",
       "  </thead>\n",
       "  <tbody>\n",
       "    <tr>\n",
       "      <th>7001</th>\n",
       "      <td>Bihar</td>\n",
       "      <td>SAHARSA</td>\n",
       "      <td>Moong(Green Gram)</td>\n",
       "      <td>2002-03</td>\n",
       "      <td>Summer</td>\n",
       "      <td>23959.0</td>\n",
       "      <td>Hectare</td>\n",
       "      <td>20725.0</td>\n",
       "      <td>Tonnes</td>\n",
       "      <td>0.865019</td>\n",
       "    </tr>\n",
       "    <tr>\n",
       "      <th>306201</th>\n",
       "      <td>Bihar</td>\n",
       "      <td>ARARIA</td>\n",
       "      <td>Onion</td>\n",
       "      <td>1998-99</td>\n",
       "      <td>Whole Year</td>\n",
       "      <td>451.0</td>\n",
       "      <td>Hectare</td>\n",
       "      <td>4032.0</td>\n",
       "      <td>Tonnes</td>\n",
       "      <td>8.940133</td>\n",
       "    </tr>\n",
       "    <tr>\n",
       "      <th>7551</th>\n",
       "      <td>Bihar</td>\n",
       "      <td>PATNA</td>\n",
       "      <td>Ragi</td>\n",
       "      <td>2001-02</td>\n",
       "      <td>Kharif</td>\n",
       "      <td>22.0</td>\n",
       "      <td>Hectare</td>\n",
       "      <td>19.0</td>\n",
       "      <td>Tonnes</td>\n",
       "      <td>0.863636</td>\n",
       "    </tr>\n",
       "    <tr>\n",
       "      <th>183618</th>\n",
       "      <td>Bihar</td>\n",
       "      <td>GOPALGANJ</td>\n",
       "      <td>Small millets</td>\n",
       "      <td>2013-14</td>\n",
       "      <td>Kharif</td>\n",
       "      <td>70.0</td>\n",
       "      <td>Hectare</td>\n",
       "      <td>55.0</td>\n",
       "      <td>Tonnes</td>\n",
       "      <td>0.785714</td>\n",
       "    </tr>\n",
       "    <tr>\n",
       "      <th>6813</th>\n",
       "      <td>Bihar</td>\n",
       "      <td>BEGUSARAI</td>\n",
       "      <td>Mesta</td>\n",
       "      <td>2001-02</td>\n",
       "      <td>Kharif</td>\n",
       "      <td>13.0</td>\n",
       "      <td>Hectare</td>\n",
       "      <td>85.0</td>\n",
       "      <td>Bales</td>\n",
       "      <td>6.538462</td>\n",
       "    </tr>\n",
       "    <tr>\n",
       "      <th>...</th>\n",
       "      <td>...</td>\n",
       "      <td>...</td>\n",
       "      <td>...</td>\n",
       "      <td>...</td>\n",
       "      <td>...</td>\n",
       "      <td>...</td>\n",
       "      <td>...</td>\n",
       "      <td>...</td>\n",
       "      <td>...</td>\n",
       "      <td>...</td>\n",
       "    </tr>\n",
       "    <tr>\n",
       "      <th>136908</th>\n",
       "      <td>Bihar</td>\n",
       "      <td>JAMUI</td>\n",
       "      <td>Moong(Green Gram)</td>\n",
       "      <td>2010-11</td>\n",
       "      <td>Kharif</td>\n",
       "      <td>36.0</td>\n",
       "      <td>Hectare</td>\n",
       "      <td>24.0</td>\n",
       "      <td>Tonnes</td>\n",
       "      <td>0.666667</td>\n",
       "    </tr>\n",
       "    <tr>\n",
       "      <th>47814</th>\n",
       "      <td>Bihar</td>\n",
       "      <td>SHEOHAR</td>\n",
       "      <td>Barley</td>\n",
       "      <td>2006-07</td>\n",
       "      <td>Rabi</td>\n",
       "      <td>5.0</td>\n",
       "      <td>Hectare</td>\n",
       "      <td>5.0</td>\n",
       "      <td>Tonnes</td>\n",
       "      <td>1.000000</td>\n",
       "    </tr>\n",
       "    <tr>\n",
       "      <th>307336</th>\n",
       "      <td>Bihar</td>\n",
       "      <td>BUXAR</td>\n",
       "      <td>Rice</td>\n",
       "      <td>1998-99</td>\n",
       "      <td>Winter</td>\n",
       "      <td>90730.0</td>\n",
       "      <td>Hectare</td>\n",
       "      <td>221735.0</td>\n",
       "      <td>Tonnes</td>\n",
       "      <td>2.443899</td>\n",
       "    </tr>\n",
       "    <tr>\n",
       "      <th>136956</th>\n",
       "      <td>Bihar</td>\n",
       "      <td>MADHUBANI</td>\n",
       "      <td>Moong(Green Gram)</td>\n",
       "      <td>2012-13</td>\n",
       "      <td>Summer</td>\n",
       "      <td>5424.0</td>\n",
       "      <td>Hectare</td>\n",
       "      <td>3504.0</td>\n",
       "      <td>Tonnes</td>\n",
       "      <td>0.646018</td>\n",
       "    </tr>\n",
       "    <tr>\n",
       "      <th>181726</th>\n",
       "      <td>Bihar</td>\n",
       "      <td>MADHUBANI</td>\n",
       "      <td>Gram</td>\n",
       "      <td>2015-16</td>\n",
       "      <td>Rabi</td>\n",
       "      <td>12.0</td>\n",
       "      <td>Hectare</td>\n",
       "      <td>12.0</td>\n",
       "      <td>Tonnes</td>\n",
       "      <td>1.000000</td>\n",
       "    </tr>\n",
       "  </tbody>\n",
       "</table>\n",
       "<p>6102 rows × 10 columns</p>\n",
       "</div>"
      ],
      "text/plain": [
       "        State   District               Crop     Year      Season     Area  \\\n",
       "7001    Bihar    SAHARSA  Moong(Green Gram)  2002-03      Summer  23959.0   \n",
       "306201  Bihar     ARARIA              Onion  1998-99  Whole Year    451.0   \n",
       "7551    Bihar      PATNA               Ragi  2001-02      Kharif     22.0   \n",
       "183618  Bihar  GOPALGANJ      Small millets  2013-14      Kharif     70.0   \n",
       "6813    Bihar  BEGUSARAI              Mesta  2001-02      Kharif     13.0   \n",
       "...       ...        ...                ...      ...         ...      ...   \n",
       "136908  Bihar      JAMUI  Moong(Green Gram)  2010-11      Kharif     36.0   \n",
       "47814   Bihar    SHEOHAR             Barley  2006-07        Rabi      5.0   \n",
       "307336  Bihar      BUXAR               Rice  1998-99      Winter  90730.0   \n",
       "136956  Bihar  MADHUBANI  Moong(Green Gram)  2012-13      Summer   5424.0   \n",
       "181726  Bihar  MADHUBANI               Gram  2015-16        Rabi     12.0   \n",
       "\n",
       "       Area Units  Production Production Units     Yield  \n",
       "7001      Hectare     20725.0           Tonnes  0.865019  \n",
       "306201    Hectare      4032.0           Tonnes  8.940133  \n",
       "7551      Hectare        19.0           Tonnes  0.863636  \n",
       "183618    Hectare        55.0           Tonnes  0.785714  \n",
       "6813      Hectare        85.0            Bales  6.538462  \n",
       "...           ...         ...              ...       ...  \n",
       "136908    Hectare        24.0           Tonnes  0.666667  \n",
       "47814     Hectare         5.0           Tonnes  1.000000  \n",
       "307336    Hectare    221735.0           Tonnes  2.443899  \n",
       "136956    Hectare      3504.0           Tonnes  0.646018  \n",
       "181726    Hectare        12.0           Tonnes  1.000000  \n",
       "\n",
       "[6102 rows x 10 columns]"
      ]
     },
     "execution_count": 16,
     "metadata": {},
     "output_type": "execute_result"
    }
   ],
   "source": [
    "dist"
   ]
  },
  {
   "cell_type": "code",
   "execution_count": 17,
   "id": "c02d3f8b",
   "metadata": {
    "execution": {
     "iopub.execute_input": "2023-03-04T20:50:39.064990Z",
     "iopub.status.busy": "2023-03-04T20:50:39.064301Z",
     "iopub.status.idle": "2023-03-04T20:50:39.084431Z",
     "shell.execute_reply": "2023-03-04T20:50:39.083512Z"
    },
    "papermill": {
     "duration": 0.041761,
     "end_time": "2023-03-04T20:50:39.086548",
     "exception": false,
     "start_time": "2023-03-04T20:50:39.044787",
     "status": "completed"
    },
    "tags": []
   },
   "outputs": [
    {
     "data": {
      "text/html": [
       "<div>\n",
       "<style scoped>\n",
       "    .dataframe tbody tr th:only-of-type {\n",
       "        vertical-align: middle;\n",
       "    }\n",
       "\n",
       "    .dataframe tbody tr th {\n",
       "        vertical-align: top;\n",
       "    }\n",
       "\n",
       "    .dataframe thead th {\n",
       "        text-align: right;\n",
       "    }\n",
       "</style>\n",
       "<table border=\"1\" class=\"dataframe\">\n",
       "  <thead>\n",
       "    <tr style=\"text-align: right;\">\n",
       "      <th></th>\n",
       "      <th>State</th>\n",
       "      <th>District</th>\n",
       "      <th>Crop</th>\n",
       "      <th>Year</th>\n",
       "      <th>Season</th>\n",
       "      <th>Area</th>\n",
       "      <th>Area Units</th>\n",
       "      <th>Production</th>\n",
       "      <th>Production Units</th>\n",
       "      <th>Yield</th>\n",
       "    </tr>\n",
       "  </thead>\n",
       "  <tbody>\n",
       "    <tr>\n",
       "      <th>306201</th>\n",
       "      <td>Bihar</td>\n",
       "      <td>ARARIA</td>\n",
       "      <td>Onion</td>\n",
       "      <td>1998-99</td>\n",
       "      <td>Whole Year</td>\n",
       "      <td>451.0</td>\n",
       "      <td>Hectare</td>\n",
       "      <td>4032.0</td>\n",
       "      <td>Tonnes</td>\n",
       "      <td>8.940133</td>\n",
       "    </tr>\n",
       "    <tr>\n",
       "      <th>308820</th>\n",
       "      <td>Bihar</td>\n",
       "      <td>ARARIA</td>\n",
       "      <td>Wheat</td>\n",
       "      <td>1997-98</td>\n",
       "      <td>Rabi</td>\n",
       "      <td>41719.0</td>\n",
       "      <td>Hectare</td>\n",
       "      <td>70134.0</td>\n",
       "      <td>Tonnes</td>\n",
       "      <td>1.681105</td>\n",
       "    </tr>\n",
       "    <tr>\n",
       "      <th>6103</th>\n",
       "      <td>Bihar</td>\n",
       "      <td>ARARIA</td>\n",
       "      <td>Jute</td>\n",
       "      <td>2002-03</td>\n",
       "      <td>Kharif</td>\n",
       "      <td>29233.0</td>\n",
       "      <td>Hectare</td>\n",
       "      <td>203657.0</td>\n",
       "      <td>Bales</td>\n",
       "      <td>6.966681</td>\n",
       "    </tr>\n",
       "    <tr>\n",
       "      <th>5232</th>\n",
       "      <td>Bihar</td>\n",
       "      <td>ARARIA</td>\n",
       "      <td>Arhar/Tur</td>\n",
       "      <td>2002-03</td>\n",
       "      <td>Kharif</td>\n",
       "      <td>302.0</td>\n",
       "      <td>Hectare</td>\n",
       "      <td>369.0</td>\n",
       "      <td>Tonnes</td>\n",
       "      <td>1.221854</td>\n",
       "    </tr>\n",
       "    <tr>\n",
       "      <th>7148</th>\n",
       "      <td>Bihar</td>\n",
       "      <td>ARARIA</td>\n",
       "      <td>Other Rabi pulses</td>\n",
       "      <td>2003-04</td>\n",
       "      <td>Rabi</td>\n",
       "      <td>127.0</td>\n",
       "      <td>Hectare</td>\n",
       "      <td>94.0</td>\n",
       "      <td>Tonnes</td>\n",
       "      <td>0.740157</td>\n",
       "    </tr>\n",
       "    <tr>\n",
       "      <th>...</th>\n",
       "      <td>...</td>\n",
       "      <td>...</td>\n",
       "      <td>...</td>\n",
       "      <td>...</td>\n",
       "      <td>...</td>\n",
       "      <td>...</td>\n",
       "      <td>...</td>\n",
       "      <td>...</td>\n",
       "      <td>...</td>\n",
       "      <td>...</td>\n",
       "    </tr>\n",
       "    <tr>\n",
       "      <th>48309</th>\n",
       "      <td>Bihar</td>\n",
       "      <td>ARARIA</td>\n",
       "      <td>Khesari</td>\n",
       "      <td>2005-06</td>\n",
       "      <td>Rabi</td>\n",
       "      <td>3026.0</td>\n",
       "      <td>Hectare</td>\n",
       "      <td>1861.0</td>\n",
       "      <td>Tonnes</td>\n",
       "      <td>0.615003</td>\n",
       "    </tr>\n",
       "    <tr>\n",
       "      <th>307281</th>\n",
       "      <td>Bihar</td>\n",
       "      <td>ARARIA</td>\n",
       "      <td>Rice</td>\n",
       "      <td>2000-01</td>\n",
       "      <td>Autumn</td>\n",
       "      <td>88865.0</td>\n",
       "      <td>Hectare</td>\n",
       "      <td>84685.0</td>\n",
       "      <td>Tonnes</td>\n",
       "      <td>0.952962</td>\n",
       "    </tr>\n",
       "    <tr>\n",
       "      <th>91032</th>\n",
       "      <td>Bihar</td>\n",
       "      <td>ARARIA</td>\n",
       "      <td>Linseed</td>\n",
       "      <td>2009-10</td>\n",
       "      <td>Rabi</td>\n",
       "      <td>1659.0</td>\n",
       "      <td>Hectare</td>\n",
       "      <td>1404.0</td>\n",
       "      <td>Tonnes</td>\n",
       "      <td>0.846293</td>\n",
       "    </tr>\n",
       "    <tr>\n",
       "      <th>304648</th>\n",
       "      <td>Bihar</td>\n",
       "      <td>ARARIA</td>\n",
       "      <td>Gram</td>\n",
       "      <td>1998-99</td>\n",
       "      <td>Rabi</td>\n",
       "      <td>1052.0</td>\n",
       "      <td>Hectare</td>\n",
       "      <td>1129.0</td>\n",
       "      <td>Tonnes</td>\n",
       "      <td>1.073194</td>\n",
       "    </tr>\n",
       "    <tr>\n",
       "      <th>183767</th>\n",
       "      <td>Bihar</td>\n",
       "      <td>ARARIA</td>\n",
       "      <td>Sunflower</td>\n",
       "      <td>2015-16</td>\n",
       "      <td>Rabi</td>\n",
       "      <td>850.0</td>\n",
       "      <td>Hectare</td>\n",
       "      <td>1201.0</td>\n",
       "      <td>Tonnes</td>\n",
       "      <td>1.412941</td>\n",
       "    </tr>\n",
       "  </tbody>\n",
       "</table>\n",
       "<p>161 rows × 10 columns</p>\n",
       "</div>"
      ],
      "text/plain": [
       "        State District               Crop     Year      Season     Area  \\\n",
       "306201  Bihar   ARARIA              Onion  1998-99  Whole Year    451.0   \n",
       "308820  Bihar   ARARIA              Wheat  1997-98        Rabi  41719.0   \n",
       "6103    Bihar   ARARIA               Jute  2002-03      Kharif  29233.0   \n",
       "5232    Bihar   ARARIA          Arhar/Tur  2002-03      Kharif    302.0   \n",
       "7148    Bihar   ARARIA  Other Rabi pulses  2003-04        Rabi    127.0   \n",
       "...       ...      ...                ...      ...         ...      ...   \n",
       "48309   Bihar   ARARIA            Khesari  2005-06        Rabi   3026.0   \n",
       "307281  Bihar   ARARIA               Rice  2000-01      Autumn  88865.0   \n",
       "91032   Bihar   ARARIA            Linseed  2009-10        Rabi   1659.0   \n",
       "304648  Bihar   ARARIA               Gram  1998-99        Rabi   1052.0   \n",
       "183767  Bihar   ARARIA          Sunflower  2015-16        Rabi    850.0   \n",
       "\n",
       "       Area Units  Production Production Units     Yield  \n",
       "306201    Hectare      4032.0           Tonnes  8.940133  \n",
       "308820    Hectare     70134.0           Tonnes  1.681105  \n",
       "6103      Hectare    203657.0            Bales  6.966681  \n",
       "5232      Hectare       369.0           Tonnes  1.221854  \n",
       "7148      Hectare        94.0           Tonnes  0.740157  \n",
       "...           ...         ...              ...       ...  \n",
       "48309     Hectare      1861.0           Tonnes  0.615003  \n",
       "307281    Hectare     84685.0           Tonnes  0.952962  \n",
       "91032     Hectare      1404.0           Tonnes  0.846293  \n",
       "304648    Hectare      1129.0           Tonnes  1.073194  \n",
       "183767    Hectare      1201.0           Tonnes  1.412941  \n",
       "\n",
       "[161 rows x 10 columns]"
      ]
     },
     "execution_count": 17,
     "metadata": {},
     "output_type": "execute_result"
    }
   ],
   "source": [
    "dist[dist['District']=='ARARIA']"
   ]
  },
  {
   "cell_type": "code",
   "execution_count": 18,
   "id": "49f94ee4",
   "metadata": {
    "execution": {
     "iopub.execute_input": "2023-03-04T20:50:39.122734Z",
     "iopub.status.busy": "2023-03-04T20:50:39.121718Z",
     "iopub.status.idle": "2023-03-04T20:50:39.134407Z",
     "shell.execute_reply": "2023-03-04T20:50:39.133188Z"
    },
    "papermill": {
     "duration": 0.032686,
     "end_time": "2023-03-04T20:50:39.136477",
     "exception": false,
     "start_time": "2023-03-04T20:50:39.103791",
     "status": "completed"
    },
    "tags": []
   },
   "outputs": [
    {
     "data": {
      "text/plain": [
       "(55,)"
      ]
     },
     "execution_count": 18,
     "metadata": {},
     "output_type": "execute_result"
    }
   ],
   "source": [
    "df['Crop'].value_counts().shape"
   ]
  },
  {
   "cell_type": "code",
   "execution_count": 19,
   "id": "974be832",
   "metadata": {
    "execution": {
     "iopub.execute_input": "2023-03-04T20:50:39.171355Z",
     "iopub.status.busy": "2023-03-04T20:50:39.171035Z",
     "iopub.status.idle": "2023-03-04T20:50:39.183177Z",
     "shell.execute_reply": "2023-03-04T20:50:39.182017Z"
    },
    "papermill": {
     "duration": 0.032064,
     "end_time": "2023-03-04T20:50:39.185165",
     "exception": false,
     "start_time": "2023-03-04T20:50:39.153101",
     "status": "completed"
    },
    "tags": []
   },
   "outputs": [
    {
     "data": {
      "text/plain": [
       "Year\n",
       "2019-20    4677\n",
       "2018-19    4541\n",
       "2017-18    4488\n",
       "2016-17    4351\n",
       "2015-16    4071\n",
       "2011-12    4014\n",
       "2013-14    3991\n",
       "2014-15    3911\n",
       "2008-09    3693\n",
       "2009-10    3687\n",
       "2010-11    3669\n",
       "2003-04    3652\n",
       "2012-13    3628\n",
       "2006-07    3609\n",
       "2007-08    3570\n",
       "2002-03    3520\n",
       "2005-06    3433\n",
       "2000-01    3433\n",
       "2004-05    3422\n",
       "2001-02    3272\n",
       "1999-00    3258\n",
       "1998-99    2996\n",
       "1997-98    2088\n",
       "2020-21      87\n",
       "Name: count, dtype: int64"
      ]
     },
     "execution_count": 19,
     "metadata": {},
     "output_type": "execute_result"
    }
   ],
   "source": [
    "df['Year'].value_counts()"
   ]
  },
  {
   "cell_type": "code",
   "execution_count": 20,
   "id": "e4c83c5f",
   "metadata": {
    "execution": {
     "iopub.execute_input": "2023-03-04T20:50:39.220963Z",
     "iopub.status.busy": "2023-03-04T20:50:39.220539Z",
     "iopub.status.idle": "2023-03-04T20:50:39.233809Z",
     "shell.execute_reply": "2023-03-04T20:50:39.233042Z"
    },
    "papermill": {
     "duration": 0.033338,
     "end_time": "2023-03-04T20:50:39.235495",
     "exception": false,
     "start_time": "2023-03-04T20:50:39.202157",
     "status": "completed"
    },
    "tags": []
   },
   "outputs": [
    {
     "data": {
      "text/plain": [
       "Season\n",
       "Kharif        34101\n",
       "Rabi          24862\n",
       "Whole Year    16786\n",
       "Summer         5456\n",
       "Winter         2087\n",
       "Autumn         1769\n",
       "Name: count, dtype: int64"
      ]
     },
     "execution_count": 20,
     "metadata": {},
     "output_type": "execute_result"
    }
   ],
   "source": [
    "df['Season'].value_counts()"
   ]
  },
  {
   "cell_type": "markdown",
   "id": "92b0c254",
   "metadata": {
    "papermill": {
     "duration": 0.016366,
     "end_time": "2023-03-04T20:50:39.268533",
     "exception": false,
     "start_time": "2023-03-04T20:50:39.252167",
     "status": "completed"
    },
    "tags": []
   },
   "source": [
    "***We have to change Kharif and Rabi as a season***"
   ]
  },
  {
   "cell_type": "code",
   "execution_count": 21,
   "id": "3f60c3a9",
   "metadata": {
    "execution": {
     "iopub.execute_input": "2023-03-04T20:50:39.304058Z",
     "iopub.status.busy": "2023-03-04T20:50:39.303579Z",
     "iopub.status.idle": "2023-03-04T20:50:39.317715Z",
     "shell.execute_reply": "2023-03-04T20:50:39.316570Z"
    },
    "papermill": {
     "duration": 0.034271,
     "end_time": "2023-03-04T20:50:39.319998",
     "exception": false,
     "start_time": "2023-03-04T20:50:39.285727",
     "status": "completed"
    },
    "tags": []
   },
   "outputs": [
    {
     "data": {
      "text/plain": [
       "Area Units\n",
       "Hectare    85061\n",
       "Name: count, dtype: int64"
      ]
     },
     "execution_count": 21,
     "metadata": {},
     "output_type": "execute_result"
    }
   ],
   "source": [
    "df['Area Units'].value_counts()"
   ]
  },
  {
   "cell_type": "code",
   "execution_count": 22,
   "id": "96927a3b",
   "metadata": {
    "execution": {
     "iopub.execute_input": "2023-03-04T20:50:39.358669Z",
     "iopub.status.busy": "2023-03-04T20:50:39.357497Z",
     "iopub.status.idle": "2023-03-04T20:50:39.371464Z",
     "shell.execute_reply": "2023-03-04T20:50:39.370405Z"
    },
    "papermill": {
     "duration": 0.035527,
     "end_time": "2023-03-04T20:50:39.373477",
     "exception": false,
     "start_time": "2023-03-04T20:50:39.337950",
     "status": "completed"
    },
    "tags": []
   },
   "outputs": [
    {
     "data": {
      "text/plain": [
       "Production Units\n",
       "Tonnes    81654\n",
       "Bales      2681\n",
       "Nuts        726\n",
       "Name: count, dtype: int64"
      ]
     },
     "execution_count": 22,
     "metadata": {},
     "output_type": "execute_result"
    }
   ],
   "source": [
    "df['Production Units'].value_counts()"
   ]
  },
  {
   "cell_type": "markdown",
   "id": "7d7d6d71",
   "metadata": {
    "papermill": {
     "duration": 0.017306,
     "end_time": "2023-03-04T20:50:39.407986",
     "exception": false,
     "start_time": "2023-03-04T20:50:39.390680",
     "status": "completed"
    },
    "tags": []
   },
   "source": [
    "***Here ,we see Bales and nuts are two different unit of productions to convert it into tonnes for our convinence .as we know ***\n",
    "\n",
    "***1 Bales=1.7 Tonnes***\n",
    "\n",
    "***1 Nuts =1/50 Tonnes***"
   ]
  },
  {
   "cell_type": "code",
   "execution_count": 23,
   "id": "6901229a",
   "metadata": {
    "execution": {
     "iopub.execute_input": "2023-03-04T20:50:39.445128Z",
     "iopub.status.busy": "2023-03-04T20:50:39.444716Z",
     "iopub.status.idle": "2023-03-04T20:50:40.858459Z",
     "shell.execute_reply": "2023-03-04T20:50:40.857238Z"
    },
    "papermill": {
     "duration": 1.435472,
     "end_time": "2023-03-04T20:50:40.861085",
     "exception": false,
     "start_time": "2023-03-04T20:50:39.425613",
     "status": "completed"
    },
    "tags": []
   },
   "outputs": [],
   "source": [
    "def change_units(df):\n",
    "    if df['Production Units']=='Bales':\n",
    "        data_production=df['Production']*1.7\n",
    "        return data_production\n",
    "    elif df['Production Units'] == 'Nuts':\n",
    "        data_production = df['Production'] / 50\n",
    "        return data_production\n",
    "    else:\n",
    "        return df['Production']\n",
    "    \n",
    "df[\"Production\"] = df.apply(change_units,axis=1)"
   ]
  },
  {
   "cell_type": "code",
   "execution_count": 24,
   "id": "a1172544",
   "metadata": {
    "execution": {
     "iopub.execute_input": "2023-03-04T20:50:40.897644Z",
     "iopub.status.busy": "2023-03-04T20:50:40.896688Z",
     "iopub.status.idle": "2023-03-04T20:50:40.917702Z",
     "shell.execute_reply": "2023-03-04T20:50:40.916506Z"
    },
    "papermill": {
     "duration": 0.041242,
     "end_time": "2023-03-04T20:50:40.919917",
     "exception": false,
     "start_time": "2023-03-04T20:50:40.878675",
     "status": "completed"
    },
    "tags": []
   },
   "outputs": [
    {
     "data": {
      "text/html": [
       "<div>\n",
       "<style scoped>\n",
       "    .dataframe tbody tr th:only-of-type {\n",
       "        vertical-align: middle;\n",
       "    }\n",
       "\n",
       "    .dataframe tbody tr th {\n",
       "        vertical-align: top;\n",
       "    }\n",
       "\n",
       "    .dataframe thead th {\n",
       "        text-align: right;\n",
       "    }\n",
       "</style>\n",
       "<table border=\"1\" class=\"dataframe\">\n",
       "  <thead>\n",
       "    <tr style=\"text-align: right;\">\n",
       "      <th></th>\n",
       "      <th>State</th>\n",
       "      <th>District</th>\n",
       "      <th>Crop</th>\n",
       "      <th>Year</th>\n",
       "      <th>Season</th>\n",
       "      <th>Area</th>\n",
       "      <th>Area Units</th>\n",
       "      <th>Production</th>\n",
       "      <th>Production Units</th>\n",
       "      <th>Yield</th>\n",
       "    </tr>\n",
       "  </thead>\n",
       "  <tbody>\n",
       "    <tr>\n",
       "      <th>121231</th>\n",
       "      <td>Tripura</td>\n",
       "      <td>WEST TRIPURA</td>\n",
       "      <td>Arhar/Tur</td>\n",
       "      <td>2009-10</td>\n",
       "      <td>Kharif</td>\n",
       "      <td>257.0</td>\n",
       "      <td>Hectare</td>\n",
       "      <td>185.0</td>\n",
       "      <td>Tonnes</td>\n",
       "      <td>0.719844</td>\n",
       "    </tr>\n",
       "    <tr>\n",
       "      <th>112176</th>\n",
       "      <td>Meghalaya</td>\n",
       "      <td>EAST JAINTIA HILLS</td>\n",
       "      <td>Maize</td>\n",
       "      <td>2009-10</td>\n",
       "      <td>Kharif</td>\n",
       "      <td>3028.0</td>\n",
       "      <td>Hectare</td>\n",
       "      <td>3590.0</td>\n",
       "      <td>Tonnes</td>\n",
       "      <td>1.185601</td>\n",
       "    </tr>\n",
       "    <tr>\n",
       "      <th>33978</th>\n",
       "      <td>Tamil Nadu</td>\n",
       "      <td>THENI</td>\n",
       "      <td>Sweet potato</td>\n",
       "      <td>2002-03</td>\n",
       "      <td>Whole Year</td>\n",
       "      <td>2.0</td>\n",
       "      <td>Hectare</td>\n",
       "      <td>27.0</td>\n",
       "      <td>Tonnes</td>\n",
       "      <td>13.500000</td>\n",
       "    </tr>\n",
       "    <tr>\n",
       "      <th>337524</th>\n",
       "      <td>Uttar Pradesh</td>\n",
       "      <td>LUCKNOW</td>\n",
       "      <td>Linseed</td>\n",
       "      <td>1998-99</td>\n",
       "      <td>Rabi</td>\n",
       "      <td>73.0</td>\n",
       "      <td>Hectare</td>\n",
       "      <td>28.0</td>\n",
       "      <td>Tonnes</td>\n",
       "      <td>0.383562</td>\n",
       "    </tr>\n",
       "    <tr>\n",
       "      <th>177092</th>\n",
       "      <td>Andhra Pradesh</td>\n",
       "      <td>VISAKHAPATANAM</td>\n",
       "      <td>Cowpea(Lobia)</td>\n",
       "      <td>2015-16</td>\n",
       "      <td>Rabi</td>\n",
       "      <td>554.0</td>\n",
       "      <td>Hectare</td>\n",
       "      <td>187.0</td>\n",
       "      <td>Tonnes</td>\n",
       "      <td>0.337545</td>\n",
       "    </tr>\n",
       "    <tr>\n",
       "      <th>...</th>\n",
       "      <td>...</td>\n",
       "      <td>...</td>\n",
       "      <td>...</td>\n",
       "      <td>...</td>\n",
       "      <td>...</td>\n",
       "      <td>...</td>\n",
       "      <td>...</td>\n",
       "      <td>...</td>\n",
       "      <td>...</td>\n",
       "      <td>...</td>\n",
       "    </tr>\n",
       "    <tr>\n",
       "      <th>239025</th>\n",
       "      <td>Haryana</td>\n",
       "      <td>MAHENDRAGARH</td>\n",
       "      <td>Garlic</td>\n",
       "      <td>2017-18</td>\n",
       "      <td>Whole Year</td>\n",
       "      <td>12.0</td>\n",
       "      <td>Hectare</td>\n",
       "      <td>220.0</td>\n",
       "      <td>Tonnes</td>\n",
       "      <td>18.333333</td>\n",
       "    </tr>\n",
       "    <tr>\n",
       "      <th>111610</th>\n",
       "      <td>Manipur</td>\n",
       "      <td>CHURACHANDPUR</td>\n",
       "      <td>Banana</td>\n",
       "      <td>2007-08</td>\n",
       "      <td>Whole Year</td>\n",
       "      <td>4400.0</td>\n",
       "      <td>Hectare</td>\n",
       "      <td>56590.0</td>\n",
       "      <td>Tonnes</td>\n",
       "      <td>12.861364</td>\n",
       "    </tr>\n",
       "    <tr>\n",
       "      <th>318259</th>\n",
       "      <td>Madhya Pradesh</td>\n",
       "      <td>UMARIA</td>\n",
       "      <td>Barley</td>\n",
       "      <td>1998-99</td>\n",
       "      <td>Rabi</td>\n",
       "      <td>700.0</td>\n",
       "      <td>Hectare</td>\n",
       "      <td>400.0</td>\n",
       "      <td>Tonnes</td>\n",
       "      <td>0.571429</td>\n",
       "    </tr>\n",
       "    <tr>\n",
       "      <th>134789</th>\n",
       "      <td>Assam</td>\n",
       "      <td>DIMA HASAO</td>\n",
       "      <td>Rice</td>\n",
       "      <td>2011-12</td>\n",
       "      <td>Autumn</td>\n",
       "      <td>6590.0</td>\n",
       "      <td>Hectare</td>\n",
       "      <td>8923.0</td>\n",
       "      <td>Tonnes</td>\n",
       "      <td>1.354021</td>\n",
       "    </tr>\n",
       "    <tr>\n",
       "      <th>146124</th>\n",
       "      <td>Jharkhand</td>\n",
       "      <td>GODDA</td>\n",
       "      <td>Potato</td>\n",
       "      <td>2011-12</td>\n",
       "      <td>Rabi</td>\n",
       "      <td>586.0</td>\n",
       "      <td>Hectare</td>\n",
       "      <td>3150.0</td>\n",
       "      <td>Tonnes</td>\n",
       "      <td>5.375427</td>\n",
       "    </tr>\n",
       "  </tbody>\n",
       "</table>\n",
       "<p>85061 rows × 10 columns</p>\n",
       "</div>"
      ],
      "text/plain": [
       "                 State            District           Crop     Year  \\\n",
       "121231         Tripura        WEST TRIPURA      Arhar/Tur  2009-10   \n",
       "112176       Meghalaya  EAST JAINTIA HILLS          Maize  2009-10   \n",
       "33978       Tamil Nadu               THENI   Sweet potato  2002-03   \n",
       "337524   Uttar Pradesh             LUCKNOW        Linseed  1998-99   \n",
       "177092  Andhra Pradesh      VISAKHAPATANAM  Cowpea(Lobia)  2015-16   \n",
       "...                ...                 ...            ...      ...   \n",
       "239025         Haryana        MAHENDRAGARH         Garlic  2017-18   \n",
       "111610         Manipur       CHURACHANDPUR         Banana  2007-08   \n",
       "318259  Madhya Pradesh              UMARIA         Barley  1998-99   \n",
       "134789           Assam          DIMA HASAO           Rice  2011-12   \n",
       "146124       Jharkhand               GODDA         Potato  2011-12   \n",
       "\n",
       "            Season    Area Area Units  Production Production Units      Yield  \n",
       "121231      Kharif   257.0    Hectare       185.0           Tonnes   0.719844  \n",
       "112176      Kharif  3028.0    Hectare      3590.0           Tonnes   1.185601  \n",
       "33978   Whole Year     2.0    Hectare        27.0           Tonnes  13.500000  \n",
       "337524        Rabi    73.0    Hectare        28.0           Tonnes   0.383562  \n",
       "177092        Rabi   554.0    Hectare       187.0           Tonnes   0.337545  \n",
       "...            ...     ...        ...         ...              ...        ...  \n",
       "239025  Whole Year    12.0    Hectare       220.0           Tonnes  18.333333  \n",
       "111610  Whole Year  4400.0    Hectare     56590.0           Tonnes  12.861364  \n",
       "318259        Rabi   700.0    Hectare       400.0           Tonnes   0.571429  \n",
       "134789      Autumn  6590.0    Hectare      8923.0           Tonnes   1.354021  \n",
       "146124        Rabi   586.0    Hectare      3150.0           Tonnes   5.375427  \n",
       "\n",
       "[85061 rows x 10 columns]"
      ]
     },
     "execution_count": 24,
     "metadata": {},
     "output_type": "execute_result"
    }
   ],
   "source": [
    "df"
   ]
  },
  {
   "cell_type": "markdown",
   "id": "53bae048",
   "metadata": {
    "papermill": {
     "duration": 0.01712,
     "end_time": "2023-03-04T20:50:40.954641",
     "exception": false,
     "start_time": "2023-03-04T20:50:40.937521",
     "status": "completed"
    },
    "tags": []
   },
   "source": []
  },
  {
   "cell_type": "markdown",
   "id": "cf254c07",
   "metadata": {
    "papermill": {
     "duration": 0.01726,
     "end_time": "2023-03-04T20:50:40.989402",
     "exception": false,
     "start_time": "2023-03-04T20:50:40.972142",
     "status": "completed"
    },
    "tags": []
   },
   "source": [
    "# Data Visualisation"
   ]
  },
  {
   "cell_type": "code",
   "execution_count": 25,
   "id": "9074afd4",
   "metadata": {
    "execution": {
     "iopub.execute_input": "2023-03-04T20:50:41.026019Z",
     "iopub.status.busy": "2023-03-04T20:50:41.025664Z",
     "iopub.status.idle": "2023-03-04T20:50:41.277859Z",
     "shell.execute_reply": "2023-03-04T20:50:41.277075Z"
    },
    "papermill": {
     "duration": 0.272969,
     "end_time": "2023-03-04T20:50:41.279864",
     "exception": false,
     "start_time": "2023-03-04T20:50:41.006895",
     "status": "completed"
    },
    "tags": []
   },
   "outputs": [
    {
     "data": {
      "text/plain": [
       "<Axes: xlabel='Season', ylabel='count'>"
      ]
     },
     "execution_count": 25,
     "metadata": {},
     "output_type": "execute_result"
    },
    {
     "data": {
      "image/png": "[encoded data removed]",
      "text/plain": [
       "<Figure size 640x480 with 1 Axes>"
      ]
     },
     "metadata": {},
     "output_type": "display_data"
    }
   ],
   "source": [
    "sns.countplot(x=df['Season'])"
   ]
  },
  {
   "cell_type": "markdown",
   "id": "82119de4",
   "metadata": {
    "papermill": {
     "duration": 0.017122,
     "end_time": "2023-03-04T20:50:41.315586",
     "exception": false,
     "start_time": "2023-03-04T20:50:41.298464",
     "status": "completed"
    },
    "tags": []
   },
   "source": [
    "**In india Kharif and Rabi crops are most harvested crop ,as we can see from our graph**"
   ]
  },
  {
   "cell_type": "code",
   "execution_count": 26,
   "id": "fe9e575f",
   "metadata": {
    "execution": {
     "iopub.execute_input": "2023-03-04T20:50:41.354270Z",
     "iopub.status.busy": "2023-03-04T20:50:41.353023Z",
     "iopub.status.idle": "2023-03-04T20:50:42.461153Z",
     "shell.execute_reply": "2023-03-04T20:50:42.460177Z"
    },
    "papermill": {
     "duration": 1.129251,
     "end_time": "2023-03-04T20:50:42.462995",
     "exception": false,
     "start_time": "2023-03-04T20:50:41.333744",
     "status": "completed"
    },
    "tags": []
   },
   "outputs": [
    {
     "data": {
      "text/plain": [
       "<Axes: xlabel='Season', ylabel='Production'>"
      ]
     },
     "execution_count": 26,
     "metadata": {},
     "output_type": "execute_result"
    },
    {
     "data": {
      "image/png": "[encoded data removed]",
      "text/plain": [
       "<Figure size 640x480 with 1 Axes>"
      ]
     },
     "metadata": {},
     "output_type": "display_data"
    }
   ],
   "source": [
    "sns.barplot(x=df['Season'],y=df['Production'])"
   ]
  },
  {
   "cell_type": "code",
   "execution_count": 27,
   "id": "5aeb0fd7",
   "metadata": {
    "execution": {
     "iopub.execute_input": "2023-03-04T20:50:42.501303Z",
     "iopub.status.busy": "2023-03-04T20:50:42.500941Z",
     "iopub.status.idle": "2023-03-04T20:50:45.214012Z",
     "shell.execute_reply": "2023-03-04T20:50:45.212774Z"
    },
    "papermill": {
     "duration": 2.735076,
     "end_time": "2023-03-04T20:50:45.216191",
     "exception": false,
     "start_time": "2023-03-04T20:50:42.481115",
     "status": "completed"
    },
    "tags": []
   },
   "outputs": [
    {
     "data": {
      "image/png": "[encoded data removed]",
      "text/plain": [
       "<Figure size 1200x1800 with 1 Axes>"
      ]
     },
     "metadata": {},
     "output_type": "display_data"
    }
   ],
   "source": [
    "plt.figure(figsize=(12,18))\n",
    "ax=sns.barplot(x=df['Production'],y=df['Crop'])\n",
    "plt.setp(ax.get_xticklabels(),rotation=0, ha=\"right\",fontsize=30)\n",
    "plt.tight_layout()\n",
    "plt.show()"
   ]
  },
  {
   "cell_type": "markdown",
   "id": "043d737c",
   "metadata": {
    "papermill": {
     "duration": 0.018787,
     "end_time": "2023-03-04T20:50:45.254529",
     "exception": false,
     "start_time": "2023-03-04T20:50:45.235742",
     "status": "completed"
    },
    "tags": []
   },
   "source": [
    "***Since Coconut production is away ahead from other production, to visualise other's crop we have to ignore Coconut and Sugarcane***"
   ]
  },
  {
   "cell_type": "code",
   "execution_count": 28,
   "id": "66fc0612",
   "metadata": {
    "execution": {
     "iopub.execute_input": "2023-03-04T20:50:45.295333Z",
     "iopub.status.busy": "2023-03-04T20:50:45.294976Z",
     "iopub.status.idle": "2023-03-04T20:50:47.941753Z",
     "shell.execute_reply": "2023-03-04T20:50:47.940563Z"
    },
    "papermill": {
     "duration": 2.670276,
     "end_time": "2023-03-04T20:50:47.944059",
     "exception": false,
     "start_time": "2023-03-04T20:50:45.273783",
     "status": "completed"
    },
    "tags": []
   },
   "outputs": [
    {
     "data": {
      "image/png": "[encoded data removed]",
      "text/plain": [
       "<Figure size 1200x1800 with 1 Axes>"
      ]
     },
     "metadata": {},
     "output_type": "display_data"
    }
   ],
   "source": [
    "plt.figure(figsize=(12,18))\n",
    "ax=sns.barplot(x=df['Production'],y=df[(df['Crop']!='Coconut') & (df['Crop']!='Sugarcane')].Crop)\n",
    "plt.setp(ax.get_xticklabels(),rotation=0, ha=\"right\",fontsize=30)\n",
    "plt.tight_layout()\n",
    "plt.show()\n",
    "\n"
   ]
  },
  {
   "cell_type": "markdown",
   "id": "cd67e002",
   "metadata": {
    "papermill": {
     "duration": 0.019889,
     "end_time": "2023-03-04T20:50:47.984614",
     "exception": false,
     "start_time": "2023-03-04T20:50:47.964725",
     "status": "completed"
    },
    "tags": []
   },
   "source": [
    "***Since, Coconut and Sugarcane ***"
   ]
  },
  {
   "cell_type": "code",
   "execution_count": 29,
   "id": "140aabd9",
   "metadata": {
    "execution": {
     "iopub.execute_input": "2023-03-04T20:50:48.026698Z",
     "iopub.status.busy": "2023-03-04T20:50:48.026326Z",
     "iopub.status.idle": "2023-03-04T20:50:50.125107Z",
     "shell.execute_reply": "2023-03-04T20:50:50.124371Z"
    },
    "papermill": {
     "duration": 2.122056,
     "end_time": "2023-03-04T20:50:50.127031",
     "exception": false,
     "start_time": "2023-03-04T20:50:48.004975",
     "status": "completed"
    },
    "tags": []
   },
   "outputs": [
    {
     "data": {
      "image/png": "[encoded data removed]",
      "text/plain": [
       "<Figure size 2000x1800 with 1 Axes>"
      ]
     },
     "metadata": {},
     "output_type": "display_data"
    }
   ],
   "source": [
    "plt.figure(figsize=(20,18))\n",
    "ax=sns.barplot(x=df['Production'],y=df['State'])\n",
    "plt.setp(ax.get_xticklabels(),rotation=0, ha=\"right\",fontsize=30)\n",
    "plt.tight_layout()\n",
    "plt.show()"
   ]
  },
  {
   "cell_type": "markdown",
   "id": "8f290312",
   "metadata": {
    "papermill": {
     "duration": 0.021198,
     "end_time": "2023-03-04T20:50:50.170079",
     "exception": false,
     "start_time": "2023-03-04T20:50:50.148881",
     "status": "completed"
    },
    "tags": []
   },
   "source": [
    "***We can see from above graph Kerela ,Punjab,up ,Maharashtra and Goa are states which produces most crop in india***"
   ]
  },
  {
   "cell_type": "code",
   "execution_count": 30,
   "id": "a4a1fe22",
   "metadata": {
    "execution": {
     "iopub.execute_input": "2023-03-04T20:50:50.217435Z",
     "iopub.status.busy": "2023-03-04T20:50:50.216371Z",
     "iopub.status.idle": "2023-03-04T20:50:52.146050Z",
     "shell.execute_reply": "2023-03-04T20:50:52.144896Z"
    },
    "papermill": {
     "duration": 1.955077,
     "end_time": "2023-03-04T20:50:52.147999",
     "exception": false,
     "start_time": "2023-03-04T20:50:50.192922",
     "status": "completed"
    },
    "tags": []
   },
   "outputs": [
    {
     "data": {
      "image/png": "[encoded data removed]",
      "text/plain": [
       "<Figure size 2000x1800 with 1 Axes>"
      ]
     },
     "metadata": {},
     "output_type": "display_data"
    }
   ],
   "source": [
    "plt.figure(figsize=(20,18))\n",
    "ax=sns.barplot(x=df['Yield'],y=df['Year'])\n",
    "plt.setp(ax.get_xticklabels(),rotation=0, ha=\"right\",fontsize=30)\n",
    "plt.tight_layout()\n",
    "plt.show()"
   ]
  },
  {
   "cell_type": "markdown",
   "id": "f74666e9",
   "metadata": {
    "papermill": {
     "duration": 0.02196,
     "end_time": "2023-03-04T20:50:52.192402",
     "exception": false,
     "start_time": "2023-03-04T20:50:52.170442",
     "status": "completed"
    },
    "tags": []
   },
   "source": [
    "***Due to covid in 2020-2021 india's production of crop is less ***"
   ]
  },
  {
   "cell_type": "code",
   "execution_count": 31,
   "id": "d19acfea",
   "metadata": {
    "execution": {
     "iopub.execute_input": "2023-03-04T20:50:52.238368Z",
     "iopub.status.busy": "2023-03-04T20:50:52.237990Z",
     "iopub.status.idle": "2023-03-04T20:50:54.319137Z",
     "shell.execute_reply": "2023-03-04T20:50:54.318086Z"
    },
    "papermill": {
     "duration": 2.107022,
     "end_time": "2023-03-04T20:50:54.321574",
     "exception": false,
     "start_time": "2023-03-04T20:50:52.214552",
     "status": "completed"
    },
    "tags": []
   },
   "outputs": [
    {
     "data": {
      "image/png": "[encoded data removed]",
      "text/plain": [
       "<Figure size 2000x1800 with 1 Axes>"
      ]
     },
     "metadata": {},
     "output_type": "display_data"
    }
   ],
   "source": [
    "plt.figure(figsize=(20,18))\n",
    "ax=sns.barplot(x=df['Yield'],y=df['State'])\n",
    "plt.setp(ax.get_xticklabels(),rotation=0, ha=\"right\",fontsize=30)\n",
    "plt.tight_layout()\n",
    "plt.show()"
   ]
  },
  {
   "cell_type": "markdown",
   "id": "c2c302ea",
   "metadata": {
    "papermill": {
     "duration": 0.022965,
     "end_time": "2023-03-04T20:50:54.369934",
     "exception": false,
     "start_time": "2023-03-04T20:50:54.346969",
     "status": "completed"
    },
    "tags": []
   },
   "source": [
    "***We can see from above graph Puducherry,Kerela ,West Bangal,Tamil nadu ,Andman and Nicobar island and Goa are states which yields most crop in india ***\n",
    "\n",
    "***As we can see that some states have highest yield whether some have low yield compare to other states. This Shows that there is still proper education regarding agriculture have not reached in some parts of country.Whether some states like in south india have proper education due to which they have better yield than some north indian states.***\n"
   ]
  },
  {
   "cell_type": "code",
   "execution_count": 32,
   "id": "d4dd53ad",
   "metadata": {
    "execution": {
     "iopub.execute_input": "2023-03-04T20:50:54.418833Z",
     "iopub.status.busy": "2023-03-04T20:50:54.418316Z",
     "iopub.status.idle": "2023-03-04T20:50:54.436127Z",
     "shell.execute_reply": "2023-03-04T20:50:54.435485Z"
    },
    "papermill": {
     "duration": 0.044428,
     "end_time": "2023-03-04T20:50:54.437912",
     "exception": false,
     "start_time": "2023-03-04T20:50:54.393484",
     "status": "completed"
    },
    "tags": []
   },
   "outputs": [
    {
     "data": {
      "text/html": [
       "<div>\n",
       "<style scoped>\n",
       "    .dataframe tbody tr th:only-of-type {\n",
       "        vertical-align: middle;\n",
       "    }\n",
       "\n",
       "    .dataframe tbody tr th {\n",
       "        vertical-align: top;\n",
       "    }\n",
       "\n",
       "    .dataframe thead th {\n",
       "        text-align: right;\n",
       "    }\n",
       "</style>\n",
       "<table border=\"1\" class=\"dataframe\">\n",
       "  <thead>\n",
       "    <tr style=\"text-align: right;\">\n",
       "      <th></th>\n",
       "      <th>State</th>\n",
       "      <th>District</th>\n",
       "      <th>Crop</th>\n",
       "      <th>Year</th>\n",
       "      <th>Season</th>\n",
       "      <th>Area</th>\n",
       "      <th>Area Units</th>\n",
       "      <th>Production</th>\n",
       "      <th>Production Units</th>\n",
       "      <th>Yield</th>\n",
       "    </tr>\n",
       "  </thead>\n",
       "  <tbody>\n",
       "    <tr>\n",
       "      <th>121231</th>\n",
       "      <td>Tripura</td>\n",
       "      <td>WEST TRIPURA</td>\n",
       "      <td>Arhar/Tur</td>\n",
       "      <td>2009-10</td>\n",
       "      <td>Kharif</td>\n",
       "      <td>257.0</td>\n",
       "      <td>Hectare</td>\n",
       "      <td>185.0</td>\n",
       "      <td>Tonnes</td>\n",
       "      <td>0.719844</td>\n",
       "    </tr>\n",
       "    <tr>\n",
       "      <th>112176</th>\n",
       "      <td>Meghalaya</td>\n",
       "      <td>EAST JAINTIA HILLS</td>\n",
       "      <td>Maize</td>\n",
       "      <td>2009-10</td>\n",
       "      <td>Kharif</td>\n",
       "      <td>3028.0</td>\n",
       "      <td>Hectare</td>\n",
       "      <td>3590.0</td>\n",
       "      <td>Tonnes</td>\n",
       "      <td>1.185601</td>\n",
       "    </tr>\n",
       "    <tr>\n",
       "      <th>33978</th>\n",
       "      <td>Tamil Nadu</td>\n",
       "      <td>THENI</td>\n",
       "      <td>Sweet potato</td>\n",
       "      <td>2002-03</td>\n",
       "      <td>Whole Year</td>\n",
       "      <td>2.0</td>\n",
       "      <td>Hectare</td>\n",
       "      <td>27.0</td>\n",
       "      <td>Tonnes</td>\n",
       "      <td>13.500000</td>\n",
       "    </tr>\n",
       "    <tr>\n",
       "      <th>337524</th>\n",
       "      <td>Uttar Pradesh</td>\n",
       "      <td>LUCKNOW</td>\n",
       "      <td>Linseed</td>\n",
       "      <td>1998-99</td>\n",
       "      <td>Rabi</td>\n",
       "      <td>73.0</td>\n",
       "      <td>Hectare</td>\n",
       "      <td>28.0</td>\n",
       "      <td>Tonnes</td>\n",
       "      <td>0.383562</td>\n",
       "    </tr>\n",
       "    <tr>\n",
       "      <th>177092</th>\n",
       "      <td>Andhra Pradesh</td>\n",
       "      <td>VISAKHAPATANAM</td>\n",
       "      <td>Cowpea(Lobia)</td>\n",
       "      <td>2015-16</td>\n",
       "      <td>Rabi</td>\n",
       "      <td>554.0</td>\n",
       "      <td>Hectare</td>\n",
       "      <td>187.0</td>\n",
       "      <td>Tonnes</td>\n",
       "      <td>0.337545</td>\n",
       "    </tr>\n",
       "    <tr>\n",
       "      <th>...</th>\n",
       "      <td>...</td>\n",
       "      <td>...</td>\n",
       "      <td>...</td>\n",
       "      <td>...</td>\n",
       "      <td>...</td>\n",
       "      <td>...</td>\n",
       "      <td>...</td>\n",
       "      <td>...</td>\n",
       "      <td>...</td>\n",
       "      <td>...</td>\n",
       "    </tr>\n",
       "    <tr>\n",
       "      <th>239025</th>\n",
       "      <td>Haryana</td>\n",
       "      <td>MAHENDRAGARH</td>\n",
       "      <td>Garlic</td>\n",
       "      <td>2017-18</td>\n",
       "      <td>Whole Year</td>\n",
       "      <td>12.0</td>\n",
       "      <td>Hectare</td>\n",
       "      <td>220.0</td>\n",
       "      <td>Tonnes</td>\n",
       "      <td>18.333333</td>\n",
       "    </tr>\n",
       "    <tr>\n",
       "      <th>111610</th>\n",
       "      <td>Manipur</td>\n",
       "      <td>CHURACHANDPUR</td>\n",
       "      <td>Banana</td>\n",
       "      <td>2007-08</td>\n",
       "      <td>Whole Year</td>\n",
       "      <td>4400.0</td>\n",
       "      <td>Hectare</td>\n",
       "      <td>56590.0</td>\n",
       "      <td>Tonnes</td>\n",
       "      <td>12.861364</td>\n",
       "    </tr>\n",
       "    <tr>\n",
       "      <th>318259</th>\n",
       "      <td>Madhya Pradesh</td>\n",
       "      <td>UMARIA</td>\n",
       "      <td>Barley</td>\n",
       "      <td>1998-99</td>\n",
       "      <td>Rabi</td>\n",
       "      <td>700.0</td>\n",
       "      <td>Hectare</td>\n",
       "      <td>400.0</td>\n",
       "      <td>Tonnes</td>\n",
       "      <td>0.571429</td>\n",
       "    </tr>\n",
       "    <tr>\n",
       "      <th>134789</th>\n",
       "      <td>Assam</td>\n",
       "      <td>DIMA HASAO</td>\n",
       "      <td>Rice</td>\n",
       "      <td>2011-12</td>\n",
       "      <td>Autumn</td>\n",
       "      <td>6590.0</td>\n",
       "      <td>Hectare</td>\n",
       "      <td>8923.0</td>\n",
       "      <td>Tonnes</td>\n",
       "      <td>1.354021</td>\n",
       "    </tr>\n",
       "    <tr>\n",
       "      <th>146124</th>\n",
       "      <td>Jharkhand</td>\n",
       "      <td>GODDA</td>\n",
       "      <td>Potato</td>\n",
       "      <td>2011-12</td>\n",
       "      <td>Rabi</td>\n",
       "      <td>586.0</td>\n",
       "      <td>Hectare</td>\n",
       "      <td>3150.0</td>\n",
       "      <td>Tonnes</td>\n",
       "      <td>5.375427</td>\n",
       "    </tr>\n",
       "  </tbody>\n",
       "</table>\n",
       "<p>85061 rows × 10 columns</p>\n",
       "</div>"
      ],
      "text/plain": [
       "                 State            District           Crop     Year  \\\n",
       "121231         Tripura        WEST TRIPURA      Arhar/Tur  2009-10   \n",
       "112176       Meghalaya  EAST JAINTIA HILLS          Maize  2009-10   \n",
       "33978       Tamil Nadu               THENI   Sweet potato  2002-03   \n",
       "337524   Uttar Pradesh             LUCKNOW        Linseed  1998-99   \n",
       "177092  Andhra Pradesh      VISAKHAPATANAM  Cowpea(Lobia)  2015-16   \n",
       "...                ...                 ...            ...      ...   \n",
       "239025         Haryana        MAHENDRAGARH         Garlic  2017-18   \n",
       "111610         Manipur       CHURACHANDPUR         Banana  2007-08   \n",
       "318259  Madhya Pradesh              UMARIA         Barley  1998-99   \n",
       "134789           Assam          DIMA HASAO           Rice  2011-12   \n",
       "146124       Jharkhand               GODDA         Potato  2011-12   \n",
       "\n",
       "            Season    Area Area Units  Production Production Units      Yield  \n",
       "121231      Kharif   257.0    Hectare       185.0           Tonnes   0.719844  \n",
       "112176      Kharif  3028.0    Hectare      3590.0           Tonnes   1.185601  \n",
       "33978   Whole Year     2.0    Hectare        27.0           Tonnes  13.500000  \n",
       "337524        Rabi    73.0    Hectare        28.0           Tonnes   0.383562  \n",
       "177092        Rabi   554.0    Hectare       187.0           Tonnes   0.337545  \n",
       "...            ...     ...        ...         ...              ...        ...  \n",
       "239025  Whole Year    12.0    Hectare       220.0           Tonnes  18.333333  \n",
       "111610  Whole Year  4400.0    Hectare     56590.0           Tonnes  12.861364  \n",
       "318259        Rabi   700.0    Hectare       400.0           Tonnes   0.571429  \n",
       "134789      Autumn  6590.0    Hectare      8923.0           Tonnes   1.354021  \n",
       "146124        Rabi   586.0    Hectare      3150.0           Tonnes   5.375427  \n",
       "\n",
       "[85061 rows x 10 columns]"
      ]
     },
     "execution_count": 32,
     "metadata": {},
     "output_type": "execute_result"
    }
   ],
   "source": [
    "df"
   ]
  },
  {
   "cell_type": "markdown",
   "id": "ff75ab7f",
   "metadata": {
    "papermill": {
     "duration": 0.023602,
     "end_time": "2023-03-04T20:50:54.485413",
     "exception": false,
     "start_time": "2023-03-04T20:50:54.461811",
     "status": "completed"
    },
    "tags": []
   },
   "source": [
    "# Reccomendation system \n",
    "\n",
    "\n",
    "\n",
    "***Now Let's try to build a recommendation system based on some inputs and recommend  some  crops based on that. ***"
   ]
  },
  {
   "cell_type": "code",
   "execution_count": 33,
   "id": "1682f7e0",
   "metadata": {
    "execution": {
     "iopub.execute_input": "2023-03-04T20:50:54.581339Z",
     "iopub.status.busy": "2023-03-04T20:50:54.580455Z",
     "iopub.status.idle": "2023-03-04T20:50:54.587988Z",
     "shell.execute_reply": "2023-03-04T20:50:54.587234Z"
    },
    "papermill": {
     "duration": 0.033998,
     "end_time": "2023-03-04T20:50:54.589776",
     "exception": false,
     "start_time": "2023-03-04T20:50:54.555778",
     "status": "completed"
    },
    "tags": []
   },
   "outputs": [],
   "source": [
    "data=df[['State','District','Season','Area','Crop']]"
   ]
  },
  {
   "cell_type": "code",
   "execution_count": 34,
   "id": "b18433dd",
   "metadata": {
    "execution": {
     "iopub.execute_input": "2023-03-04T20:50:54.640099Z",
     "iopub.status.busy": "2023-03-04T20:50:54.639441Z",
     "iopub.status.idle": "2023-03-04T20:50:54.653699Z",
     "shell.execute_reply": "2023-03-04T20:50:54.652566Z"
    },
    "papermill": {
     "duration": 0.041679,
     "end_time": "2023-03-04T20:50:54.655894",
     "exception": false,
     "start_time": "2023-03-04T20:50:54.614215",
     "status": "completed"
    },
    "tags": []
   },
   "outputs": [
    {
     "data": {
      "text/plain": [
       "Crop\n",
       "Rice                     5421\n",
       "Maize                    5163\n",
       "Moong(Green Gram)        3655\n",
       "Urad                     3613\n",
       "Sesamum                  3185\n",
       "Groundnut                3063\n",
       "Onion                    2752\n",
       "Wheat                    2749\n",
       "Rapeseed &Mustard        2710\n",
       "Arhar/Tur                2671\n",
       "Sugarcane                2658\n",
       "Potato                   2560\n",
       "Gram                     2514\n",
       "Jowar                    2452\n",
       "Dry chillies             2255\n",
       "Bajra                    1929\n",
       "Peas & beans (Pulses)    1780\n",
       "Sunflower                1767\n",
       "Small millets            1736\n",
       "Cotton(lint)             1589\n",
       "Masoor                   1566\n",
       "Ragi                     1485\n",
       "Turmeric                 1465\n",
       "Barley                   1453\n",
       "Sweet potato             1425\n",
       "Linseed                  1413\n",
       "Other Kharif pulses      1396\n",
       "Horse-gram               1296\n",
       "Garlic                   1270\n",
       "Coriander                1260\n",
       "Soyabean                 1259\n",
       "Ginger                   1176\n",
       "Castor seed              1127\n",
       "Other Rabi pulses        1124\n",
       "Banana                   1075\n",
       "Tobacco                   881\n",
       "Coconut                   726\n",
       "Sannhamp                  721\n",
       "Niger seed                677\n",
       "Mesta                     601\n",
       "Tapioca                   580\n",
       "Arecanut                  532\n",
       "Guar seed                 525\n",
       "Jute                      491\n",
       "Khesari                   465\n",
       "Safflower                 449\n",
       "Cowpea(Lobia)             415\n",
       "Cashewnut                 365\n",
       "Moth                      341\n",
       "Other Cereals             331\n",
       "Black pepper              324\n",
       "other oilseeds            322\n",
       "Oilseeds total            179\n",
       "Cardamom                  111\n",
       "Other Summer Pulses        13\n",
       "Name: count, dtype: int64"
      ]
     },
     "execution_count": 34,
     "metadata": {},
     "output_type": "execute_result"
    }
   ],
   "source": [
    "data['Crop'].value_counts()"
   ]
  },
  {
   "cell_type": "code",
   "execution_count": 35,
   "id": "9452744f",
   "metadata": {
    "execution": {
     "iopub.execute_input": "2023-03-04T20:50:54.707930Z",
     "iopub.status.busy": "2023-03-04T20:50:54.707568Z",
     "iopub.status.idle": "2023-03-04T20:50:54.720945Z",
     "shell.execute_reply": "2023-03-04T20:50:54.719910Z"
    },
    "papermill": {
     "duration": 0.041442,
     "end_time": "2023-03-04T20:50:54.723092",
     "exception": false,
     "start_time": "2023-03-04T20:50:54.681650",
     "status": "completed"
    },
    "tags": []
   },
   "outputs": [],
   "source": [
    "data = data[data['Crop'].isin(['Rice','Maize',\"Moong(Green Gram)\",'Urad','Groundnut','Wheat','Rapeseed &Mustard','Sugarcane','Arhar/Tur','Potato','Onion','Gram','Jowar','Dry Chilies','Bajra',\"Peas & beans (Pulses)\",'Sunflower','Banana','Coconut','Khesari','Small millets','Cotton(lint)','Masoor','Turmeric','Barley','Linseed ']\n",
    ")]             "
   ]
  },
  {
   "cell_type": "code",
   "execution_count": 36,
   "id": "ce975f1a",
   "metadata": {
    "execution": {
     "iopub.execute_input": "2023-03-04T20:50:54.773053Z",
     "iopub.status.busy": "2023-03-04T20:50:54.772642Z",
     "iopub.status.idle": "2023-03-04T20:50:54.783839Z",
     "shell.execute_reply": "2023-03-04T20:50:54.782620Z"
    },
    "papermill": {
     "duration": 0.038699,
     "end_time": "2023-03-04T20:50:54.786119",
     "exception": false,
     "start_time": "2023-03-04T20:50:54.747420",
     "status": "completed"
    },
    "tags": []
   },
   "outputs": [
    {
     "data": {
      "text/plain": [
       "array(['Tripura', 'Meghalaya', 'Uttar Pradesh', 'Madhya Pradesh', 'Bihar',\n",
       "       'Karnataka', 'Jharkhand', 'Rajasthan', 'Punjab',\n",
       "       'Himachal Pradesh', 'Andhra Pradesh', 'Tamil Nadu', 'Kerala',\n",
       "       'Assam', 'Uttarakhand', 'Jammu and Kashmir', 'Haryana',\n",
       "       'Chhattisgarh', 'Nagaland', 'Maharashtra', 'Odisha', 'West Bengal',\n",
       "       'Gujarat', 'Puducherry', 'Andaman and Nicobar Islands',\n",
       "       'Arunachal Pradesh', 'Telangana', 'Manipur', 'Chandigarh',\n",
       "       'Mizoram', 'Dadra and Nagar Haveli', 'Sikkim', 'Delhi', 'Goa',\n",
       "       'Daman and Diu'], dtype=object)"
      ]
     },
     "execution_count": 36,
     "metadata": {},
     "output_type": "execute_result"
    }
   ],
   "source": [
    "data['State'].unique()"
   ]
  },
  {
   "cell_type": "code",
   "execution_count": 37,
   "id": "80005deb",
   "metadata": {
    "execution": {
     "iopub.execute_input": "2023-03-04T20:50:54.838994Z",
     "iopub.status.busy": "2023-03-04T20:50:54.838071Z",
     "iopub.status.idle": "2023-03-04T20:50:54.911515Z",
     "shell.execute_reply": "2023-03-04T20:50:54.910525Z"
    },
    "papermill": {
     "duration": 0.102429,
     "end_time": "2023-03-04T20:50:54.913871",
     "exception": false,
     "start_time": "2023-03-04T20:50:54.811442",
     "status": "completed"
    },
    "tags": []
   },
   "outputs": [],
   "source": [
    "state=pd.get_dummies(data['State'],drop_first=True)\n",
    "district=pd.get_dummies(data['District'],drop_first=True)\n",
    "season=pd.get_dummies(data['Season'],drop_first=True)\n"
   ]
  },
  {
   "cell_type": "code",
   "execution_count": 38,
   "id": "48b670ca",
   "metadata": {
    "execution": {
     "iopub.execute_input": "2023-03-04T20:50:54.963552Z",
     "iopub.status.busy": "2023-03-04T20:50:54.962815Z",
     "iopub.status.idle": "2023-03-04T20:50:55.032235Z",
     "shell.execute_reply": "2023-03-04T20:50:55.031143Z"
    },
    "papermill": {
     "duration": 0.096734,
     "end_time": "2023-03-04T20:50:55.034679",
     "exception": false,
     "start_time": "2023-03-04T20:50:54.937945",
     "status": "completed"
    },
    "tags": []
   },
   "outputs": [],
   "source": [
    "new_data=pd.concat([data,state,district,season],axis=1)\n",
    "new_data=new_data.drop(['Season','State','District'],axis=1)"
   ]
  },
  {
   "cell_type": "code",
   "execution_count": 39,
   "id": "b0097f7f",
   "metadata": {
    "execution": {
     "iopub.execute_input": "2023-03-04T20:50:55.085723Z",
     "iopub.status.busy": "2023-03-04T20:50:55.085191Z",
     "iopub.status.idle": "2023-03-04T20:50:55.109659Z",
     "shell.execute_reply": "2023-03-04T20:50:55.108785Z"
    },
    "papermill": {
     "duration": 0.052112,
     "end_time": "2023-03-04T20:50:55.111470",
     "exception": false,
     "start_time": "2023-03-04T20:50:55.059358",
     "status": "completed"
    },
    "tags": []
   },
   "outputs": [
    {
     "data": {
      "text/html": [
       "<div>\n",
       "<style scoped>\n",
       "    .dataframe tbody tr th:only-of-type {\n",
       "        vertical-align: middle;\n",
       "    }\n",
       "\n",
       "    .dataframe tbody tr th {\n",
       "        vertical-align: top;\n",
       "    }\n",
       "\n",
       "    .dataframe thead th {\n",
       "        text-align: right;\n",
       "    }\n",
       "</style>\n",
       "<table border=\"1\" class=\"dataframe\">\n",
       "  <thead>\n",
       "    <tr style=\"text-align: right;\">\n",
       "      <th></th>\n",
       "      <th>Area</th>\n",
       "      <th>Crop</th>\n",
       "      <th>Andhra Pradesh</th>\n",
       "      <th>Arunachal Pradesh</th>\n",
       "      <th>Assam</th>\n",
       "      <th>Bihar</th>\n",
       "      <th>Chandigarh</th>\n",
       "      <th>Chhattisgarh</th>\n",
       "      <th>Dadra and Nagar Haveli</th>\n",
       "      <th>Daman and Diu</th>\n",
       "      <th>...</th>\n",
       "      <th>YADGIR</th>\n",
       "      <th>YAMUNANAGAR</th>\n",
       "      <th>YANAM</th>\n",
       "      <th>YAVATMAL</th>\n",
       "      <th>ZUNHEBOTO</th>\n",
       "      <th>Kharif</th>\n",
       "      <th>Rabi</th>\n",
       "      <th>Summer</th>\n",
       "      <th>Whole Year</th>\n",
       "      <th>Winter</th>\n",
       "    </tr>\n",
       "  </thead>\n",
       "  <tbody>\n",
       "    <tr>\n",
       "      <th>121231</th>\n",
       "      <td>257.0</td>\n",
       "      <td>Arhar/Tur</td>\n",
       "      <td>False</td>\n",
       "      <td>False</td>\n",
       "      <td>False</td>\n",
       "      <td>False</td>\n",
       "      <td>False</td>\n",
       "      <td>False</td>\n",
       "      <td>False</td>\n",
       "      <td>False</td>\n",
       "      <td>...</td>\n",
       "      <td>False</td>\n",
       "      <td>False</td>\n",
       "      <td>False</td>\n",
       "      <td>False</td>\n",
       "      <td>False</td>\n",
       "      <td>True</td>\n",
       "      <td>False</td>\n",
       "      <td>False</td>\n",
       "      <td>False</td>\n",
       "      <td>False</td>\n",
       "    </tr>\n",
       "    <tr>\n",
       "      <th>112176</th>\n",
       "      <td>3028.0</td>\n",
       "      <td>Maize</td>\n",
       "      <td>False</td>\n",
       "      <td>False</td>\n",
       "      <td>False</td>\n",
       "      <td>False</td>\n",
       "      <td>False</td>\n",
       "      <td>False</td>\n",
       "      <td>False</td>\n",
       "      <td>False</td>\n",
       "      <td>...</td>\n",
       "      <td>False</td>\n",
       "      <td>False</td>\n",
       "      <td>False</td>\n",
       "      <td>False</td>\n",
       "      <td>False</td>\n",
       "      <td>True</td>\n",
       "      <td>False</td>\n",
       "      <td>False</td>\n",
       "      <td>False</td>\n",
       "      <td>False</td>\n",
       "    </tr>\n",
       "    <tr>\n",
       "      <th>335930</th>\n",
       "      <td>113.0</td>\n",
       "      <td>Bajra</td>\n",
       "      <td>False</td>\n",
       "      <td>False</td>\n",
       "      <td>False</td>\n",
       "      <td>False</td>\n",
       "      <td>False</td>\n",
       "      <td>False</td>\n",
       "      <td>False</td>\n",
       "      <td>False</td>\n",
       "      <td>...</td>\n",
       "      <td>False</td>\n",
       "      <td>False</td>\n",
       "      <td>False</td>\n",
       "      <td>False</td>\n",
       "      <td>False</td>\n",
       "      <td>True</td>\n",
       "      <td>False</td>\n",
       "      <td>False</td>\n",
       "      <td>False</td>\n",
       "      <td>False</td>\n",
       "    </tr>\n",
       "    <tr>\n",
       "      <th>151878</th>\n",
       "      <td>28.0</td>\n",
       "      <td>Cotton(lint)</td>\n",
       "      <td>False</td>\n",
       "      <td>False</td>\n",
       "      <td>False</td>\n",
       "      <td>False</td>\n",
       "      <td>False</td>\n",
       "      <td>False</td>\n",
       "      <td>False</td>\n",
       "      <td>False</td>\n",
       "      <td>...</td>\n",
       "      <td>False</td>\n",
       "      <td>False</td>\n",
       "      <td>False</td>\n",
       "      <td>False</td>\n",
       "      <td>False</td>\n",
       "      <td>True</td>\n",
       "      <td>False</td>\n",
       "      <td>False</td>\n",
       "      <td>False</td>\n",
       "      <td>False</td>\n",
       "    </tr>\n",
       "    <tr>\n",
       "      <th>7001</th>\n",
       "      <td>23959.0</td>\n",
       "      <td>Moong(Green Gram)</td>\n",
       "      <td>False</td>\n",
       "      <td>False</td>\n",
       "      <td>False</td>\n",
       "      <td>True</td>\n",
       "      <td>False</td>\n",
       "      <td>False</td>\n",
       "      <td>False</td>\n",
       "      <td>False</td>\n",
       "      <td>...</td>\n",
       "      <td>False</td>\n",
       "      <td>False</td>\n",
       "      <td>False</td>\n",
       "      <td>False</td>\n",
       "      <td>False</td>\n",
       "      <td>False</td>\n",
       "      <td>False</td>\n",
       "      <td>True</td>\n",
       "      <td>False</td>\n",
       "      <td>False</td>\n",
       "    </tr>\n",
       "    <tr>\n",
       "      <th>...</th>\n",
       "      <td>...</td>\n",
       "      <td>...</td>\n",
       "      <td>...</td>\n",
       "      <td>...</td>\n",
       "      <td>...</td>\n",
       "      <td>...</td>\n",
       "      <td>...</td>\n",
       "      <td>...</td>\n",
       "      <td>...</td>\n",
       "      <td>...</td>\n",
       "      <td>...</td>\n",
       "      <td>...</td>\n",
       "      <td>...</td>\n",
       "      <td>...</td>\n",
       "      <td>...</td>\n",
       "      <td>...</td>\n",
       "      <td>...</td>\n",
       "      <td>...</td>\n",
       "      <td>...</td>\n",
       "      <td>...</td>\n",
       "      <td>...</td>\n",
       "    </tr>\n",
       "    <tr>\n",
       "      <th>279888</th>\n",
       "      <td>90.0</td>\n",
       "      <td>Moong(Green Gram)</td>\n",
       "      <td>False</td>\n",
       "      <td>False</td>\n",
       "      <td>True</td>\n",
       "      <td>False</td>\n",
       "      <td>False</td>\n",
       "      <td>False</td>\n",
       "      <td>False</td>\n",
       "      <td>False</td>\n",
       "      <td>...</td>\n",
       "      <td>False</td>\n",
       "      <td>False</td>\n",
       "      <td>False</td>\n",
       "      <td>False</td>\n",
       "      <td>False</td>\n",
       "      <td>False</td>\n",
       "      <td>True</td>\n",
       "      <td>False</td>\n",
       "      <td>False</td>\n",
       "      <td>False</td>\n",
       "    </tr>\n",
       "    <tr>\n",
       "      <th>111610</th>\n",
       "      <td>4400.0</td>\n",
       "      <td>Banana</td>\n",
       "      <td>False</td>\n",
       "      <td>False</td>\n",
       "      <td>False</td>\n",
       "      <td>False</td>\n",
       "      <td>False</td>\n",
       "      <td>False</td>\n",
       "      <td>False</td>\n",
       "      <td>False</td>\n",
       "      <td>...</td>\n",
       "      <td>False</td>\n",
       "      <td>False</td>\n",
       "      <td>False</td>\n",
       "      <td>False</td>\n",
       "      <td>False</td>\n",
       "      <td>False</td>\n",
       "      <td>False</td>\n",
       "      <td>False</td>\n",
       "      <td>True</td>\n",
       "      <td>False</td>\n",
       "    </tr>\n",
       "    <tr>\n",
       "      <th>318259</th>\n",
       "      <td>700.0</td>\n",
       "      <td>Barley</td>\n",
       "      <td>False</td>\n",
       "      <td>False</td>\n",
       "      <td>False</td>\n",
       "      <td>False</td>\n",
       "      <td>False</td>\n",
       "      <td>False</td>\n",
       "      <td>False</td>\n",
       "      <td>False</td>\n",
       "      <td>...</td>\n",
       "      <td>False</td>\n",
       "      <td>False</td>\n",
       "      <td>False</td>\n",
       "      <td>False</td>\n",
       "      <td>False</td>\n",
       "      <td>False</td>\n",
       "      <td>True</td>\n",
       "      <td>False</td>\n",
       "      <td>False</td>\n",
       "      <td>False</td>\n",
       "    </tr>\n",
       "    <tr>\n",
       "      <th>134789</th>\n",
       "      <td>6590.0</td>\n",
       "      <td>Rice</td>\n",
       "      <td>False</td>\n",
       "      <td>False</td>\n",
       "      <td>True</td>\n",
       "      <td>False</td>\n",
       "      <td>False</td>\n",
       "      <td>False</td>\n",
       "      <td>False</td>\n",
       "      <td>False</td>\n",
       "      <td>...</td>\n",
       "      <td>False</td>\n",
       "      <td>False</td>\n",
       "      <td>False</td>\n",
       "      <td>False</td>\n",
       "      <td>False</td>\n",
       "      <td>False</td>\n",
       "      <td>False</td>\n",
       "      <td>False</td>\n",
       "      <td>False</td>\n",
       "      <td>False</td>\n",
       "    </tr>\n",
       "    <tr>\n",
       "      <th>146124</th>\n",
       "      <td>586.0</td>\n",
       "      <td>Potato</td>\n",
       "      <td>False</td>\n",
       "      <td>False</td>\n",
       "      <td>False</td>\n",
       "      <td>False</td>\n",
       "      <td>False</td>\n",
       "      <td>False</td>\n",
       "      <td>False</td>\n",
       "      <td>False</td>\n",
       "      <td>...</td>\n",
       "      <td>False</td>\n",
       "      <td>False</td>\n",
       "      <td>False</td>\n",
       "      <td>False</td>\n",
       "      <td>False</td>\n",
       "      <td>False</td>\n",
       "      <td>True</td>\n",
       "      <td>False</td>\n",
       "      <td>False</td>\n",
       "      <td>False</td>\n",
       "    </tr>\n",
       "  </tbody>\n",
       "</table>\n",
       "<p>57532 rows × 757 columns</p>\n",
       "</div>"
      ],
      "text/plain": [
       "           Area               Crop  Andhra Pradesh  Arunachal Pradesh  Assam  \\\n",
       "121231    257.0          Arhar/Tur           False              False  False   \n",
       "112176   3028.0              Maize           False              False  False   \n",
       "335930    113.0              Bajra           False              False  False   \n",
       "151878     28.0       Cotton(lint)           False              False  False   \n",
       "7001    23959.0  Moong(Green Gram)           False              False  False   \n",
       "...         ...                ...             ...                ...    ...   \n",
       "279888     90.0  Moong(Green Gram)           False              False   True   \n",
       "111610   4400.0             Banana           False              False  False   \n",
       "318259    700.0             Barley           False              False  False   \n",
       "134789   6590.0               Rice           False              False   True   \n",
       "146124    586.0             Potato           False              False  False   \n",
       "\n",
       "        Bihar  Chandigarh  Chhattisgarh  Dadra and Nagar Haveli  \\\n",
       "121231  False       False         False                   False   \n",
       "112176  False       False         False                   False   \n",
       "335930  False       False         False                   False   \n",
       "151878  False       False         False                   False   \n",
       "7001     True       False         False                   False   \n",
       "...       ...         ...           ...                     ...   \n",
       "279888  False       False         False                   False   \n",
       "111610  False       False         False                   False   \n",
       "318259  False       False         False                   False   \n",
       "134789  False       False         False                   False   \n",
       "146124  False       False         False                   False   \n",
       "\n",
       "        Daman and Diu  ...  YADGIR  YAMUNANAGAR  YANAM  YAVATMAL  ZUNHEBOTO  \\\n",
       "121231          False  ...   False        False  False     False      False   \n",
       "112176          False  ...   False        False  False     False      False   \n",
       "335930          False  ...   False        False  False     False      False   \n",
       "151878          False  ...   False        False  False     False      False   \n",
       "7001            False  ...   False        False  False     False      False   \n",
       "...               ...  ...     ...          ...    ...       ...        ...   \n",
       "279888          False  ...   False        False  False     False      False   \n",
       "111610          False  ...   False        False  False     False      False   \n",
       "318259          False  ...   False        False  False     False      False   \n",
       "134789          False  ...   False        False  False     False      False   \n",
       "146124          False  ...   False        False  False     False      False   \n",
       "\n",
       "        Kharif   Rabi  Summer  Whole Year  Winter  \n",
       "121231    True  False   False       False   False  \n",
       "112176    True  False   False       False   False  \n",
       "335930    True  False   False       False   False  \n",
       "151878    True  False   False       False   False  \n",
       "7001     False  False    True       False   False  \n",
       "...        ...    ...     ...         ...     ...  \n",
       "279888   False   True   False       False   False  \n",
       "111610   False  False   False        True   False  \n",
       "318259   False   True   False       False   False  \n",
       "134789   False  False   False       False   False  \n",
       "146124   False   True   False       False   False  \n",
       "\n",
       "[57532 rows x 757 columns]"
      ]
     },
     "execution_count": 39,
     "metadata": {},
     "output_type": "execute_result"
    }
   ],
   "source": [
    "new_data"
   ]
  },
  {
   "cell_type": "code",
   "execution_count": 40,
   "id": "c9452b81",
   "metadata": {
    "execution": {
     "iopub.execute_input": "2023-03-04T20:50:55.214595Z",
     "iopub.status.busy": "2023-03-04T20:50:55.214246Z",
     "iopub.status.idle": "2023-03-04T20:50:55.224467Z",
     "shell.execute_reply": "2023-03-04T20:50:55.223318Z"
    },
    "papermill": {
     "duration": 0.040337,
     "end_time": "2023-03-04T20:50:55.226368",
     "exception": false,
     "start_time": "2023-03-04T20:50:55.186031",
     "status": "completed"
    },
    "tags": []
   },
   "outputs": [],
   "source": [
    "crops=new_data['Crop'].unique()\n",
    " \n"
   ]
  },
  {
   "cell_type": "code",
   "execution_count": 41,
   "id": "6121efed",
   "metadata": {
    "execution": {
     "iopub.execute_input": "2023-03-04T20:50:55.277221Z",
     "iopub.status.busy": "2023-03-04T20:50:55.276654Z",
     "iopub.status.idle": "2023-03-04T20:50:55.280786Z",
     "shell.execute_reply": "2023-03-04T20:50:55.280144Z"
    },
    "papermill": {
     "duration": 0.031352,
     "end_time": "2023-03-04T20:50:55.282375",
     "exception": false,
     "start_time": "2023-03-04T20:50:55.251023",
     "status": "completed"
    },
    "tags": []
   },
   "outputs": [],
   "source": [
    "lst =list(enumerate(crops))\n",
    "dct={}\n",
    "for i in range(len(lst)):\n",
    "    dct.update({crops[i]:i})"
   ]
  },
  {
   "cell_type": "code",
   "execution_count": 42,
   "id": "f5977109",
   "metadata": {
    "execution": {
     "iopub.execute_input": "2023-03-04T20:50:55.332679Z",
     "iopub.status.busy": "2023-03-04T20:50:55.332104Z",
     "iopub.status.idle": "2023-03-04T20:50:55.337032Z",
     "shell.execute_reply": "2023-03-04T20:50:55.336357Z"
    },
    "papermill": {
     "duration": 0.031932,
     "end_time": "2023-03-04T20:50:55.338710",
     "exception": false,
     "start_time": "2023-03-04T20:50:55.306778",
     "status": "completed"
    },
    "tags": []
   },
   "outputs": [
    {
     "data": {
      "text/plain": [
       "array(['Arhar/Tur', 'Maize', 'Bajra', 'Cotton(lint)', 'Moong(Green Gram)',\n",
       "       'Rapeseed &Mustard', 'Onion', 'Sugarcane', 'Urad', 'Gram', 'Rice',\n",
       "       'Peas & beans (Pulses)', 'Turmeric', 'Coconut', 'Small millets',\n",
       "       'Sunflower', 'Wheat', 'Groundnut', 'Jowar', 'Potato', 'Barley',\n",
       "       'Masoor', 'Banana', 'Khesari'], dtype=object)"
      ]
     },
     "execution_count": 42,
     "metadata": {},
     "output_type": "execute_result"
    }
   ],
   "source": [
    "crops"
   ]
  },
  {
   "cell_type": "code",
   "execution_count": 43,
   "id": "1902f880",
   "metadata": {
    "execution": {
     "iopub.execute_input": "2023-03-04T20:50:55.388285Z",
     "iopub.status.busy": "2023-03-04T20:50:55.387965Z",
     "iopub.status.idle": "2023-03-04T20:50:55.400291Z",
     "shell.execute_reply": "2023-03-04T20:50:55.399286Z"
    },
    "papermill": {
     "duration": 0.039613,
     "end_time": "2023-03-04T20:50:55.402246",
     "exception": false,
     "start_time": "2023-03-04T20:50:55.362633",
     "status": "completed"
    },
    "tags": []
   },
   "outputs": [],
   "source": [
    "new_data['Crop']=new_data['Crop'].map(dct)"
   ]
  },
  {
   "cell_type": "code",
   "execution_count": 44,
   "id": "aef4d330",
   "metadata": {
    "execution": {
     "iopub.execute_input": "2023-03-04T20:50:55.452815Z",
     "iopub.status.busy": "2023-03-04T20:50:55.452473Z",
     "iopub.status.idle": "2023-03-04T20:50:55.474983Z",
     "shell.execute_reply": "2023-03-04T20:50:55.473910Z"
    },
    "papermill": {
     "duration": 0.050326,
     "end_time": "2023-03-04T20:50:55.476965",
     "exception": false,
     "start_time": "2023-03-04T20:50:55.426639",
     "status": "completed"
    },
    "tags": []
   },
   "outputs": [
    {
     "data": {
      "text/html": [
       "<div>\n",
       "<style scoped>\n",
       "    .dataframe tbody tr th:only-of-type {\n",
       "        vertical-align: middle;\n",
       "    }\n",
       "\n",
       "    .dataframe tbody tr th {\n",
       "        vertical-align: top;\n",
       "    }\n",
       "\n",
       "    .dataframe thead th {\n",
       "        text-align: right;\n",
       "    }\n",
       "</style>\n",
       "<table border=\"1\" class=\"dataframe\">\n",
       "  <thead>\n",
       "    <tr style=\"text-align: right;\">\n",
       "      <th></th>\n",
       "      <th>Area</th>\n",
       "      <th>Crop</th>\n",
       "      <th>Andhra Pradesh</th>\n",
       "      <th>Arunachal Pradesh</th>\n",
       "      <th>Assam</th>\n",
       "      <th>Bihar</th>\n",
       "      <th>Chandigarh</th>\n",
       "      <th>Chhattisgarh</th>\n",
       "      <th>Dadra and Nagar Haveli</th>\n",
       "      <th>Daman and Diu</th>\n",
       "      <th>...</th>\n",
       "      <th>YADGIR</th>\n",
       "      <th>YAMUNANAGAR</th>\n",
       "      <th>YANAM</th>\n",
       "      <th>YAVATMAL</th>\n",
       "      <th>ZUNHEBOTO</th>\n",
       "      <th>Kharif</th>\n",
       "      <th>Rabi</th>\n",
       "      <th>Summer</th>\n",
       "      <th>Whole Year</th>\n",
       "      <th>Winter</th>\n",
       "    </tr>\n",
       "  </thead>\n",
       "  <tbody>\n",
       "    <tr>\n",
       "      <th>121231</th>\n",
       "      <td>257.0</td>\n",
       "      <td>0</td>\n",
       "      <td>False</td>\n",
       "      <td>False</td>\n",
       "      <td>False</td>\n",
       "      <td>False</td>\n",
       "      <td>False</td>\n",
       "      <td>False</td>\n",
       "      <td>False</td>\n",
       "      <td>False</td>\n",
       "      <td>...</td>\n",
       "      <td>False</td>\n",
       "      <td>False</td>\n",
       "      <td>False</td>\n",
       "      <td>False</td>\n",
       "      <td>False</td>\n",
       "      <td>True</td>\n",
       "      <td>False</td>\n",
       "      <td>False</td>\n",
       "      <td>False</td>\n",
       "      <td>False</td>\n",
       "    </tr>\n",
       "    <tr>\n",
       "      <th>112176</th>\n",
       "      <td>3028.0</td>\n",
       "      <td>1</td>\n",
       "      <td>False</td>\n",
       "      <td>False</td>\n",
       "      <td>False</td>\n",
       "      <td>False</td>\n",
       "      <td>False</td>\n",
       "      <td>False</td>\n",
       "      <td>False</td>\n",
       "      <td>False</td>\n",
       "      <td>...</td>\n",
       "      <td>False</td>\n",
       "      <td>False</td>\n",
       "      <td>False</td>\n",
       "      <td>False</td>\n",
       "      <td>False</td>\n",
       "      <td>True</td>\n",
       "      <td>False</td>\n",
       "      <td>False</td>\n",
       "      <td>False</td>\n",
       "      <td>False</td>\n",
       "    </tr>\n",
       "    <tr>\n",
       "      <th>335930</th>\n",
       "      <td>113.0</td>\n",
       "      <td>2</td>\n",
       "      <td>False</td>\n",
       "      <td>False</td>\n",
       "      <td>False</td>\n",
       "      <td>False</td>\n",
       "      <td>False</td>\n",
       "      <td>False</td>\n",
       "      <td>False</td>\n",
       "      <td>False</td>\n",
       "      <td>...</td>\n",
       "      <td>False</td>\n",
       "      <td>False</td>\n",
       "      <td>False</td>\n",
       "      <td>False</td>\n",
       "      <td>False</td>\n",
       "      <td>True</td>\n",
       "      <td>False</td>\n",
       "      <td>False</td>\n",
       "      <td>False</td>\n",
       "      <td>False</td>\n",
       "    </tr>\n",
       "    <tr>\n",
       "      <th>151878</th>\n",
       "      <td>28.0</td>\n",
       "      <td>3</td>\n",
       "      <td>False</td>\n",
       "      <td>False</td>\n",
       "      <td>False</td>\n",
       "      <td>False</td>\n",
       "      <td>False</td>\n",
       "      <td>False</td>\n",
       "      <td>False</td>\n",
       "      <td>False</td>\n",
       "      <td>...</td>\n",
       "      <td>False</td>\n",
       "      <td>False</td>\n",
       "      <td>False</td>\n",
       "      <td>False</td>\n",
       "      <td>False</td>\n",
       "      <td>True</td>\n",
       "      <td>False</td>\n",
       "      <td>False</td>\n",
       "      <td>False</td>\n",
       "      <td>False</td>\n",
       "    </tr>\n",
       "    <tr>\n",
       "      <th>7001</th>\n",
       "      <td>23959.0</td>\n",
       "      <td>4</td>\n",
       "      <td>False</td>\n",
       "      <td>False</td>\n",
       "      <td>False</td>\n",
       "      <td>True</td>\n",
       "      <td>False</td>\n",
       "      <td>False</td>\n",
       "      <td>False</td>\n",
       "      <td>False</td>\n",
       "      <td>...</td>\n",
       "      <td>False</td>\n",
       "      <td>False</td>\n",
       "      <td>False</td>\n",
       "      <td>False</td>\n",
       "      <td>False</td>\n",
       "      <td>False</td>\n",
       "      <td>False</td>\n",
       "      <td>True</td>\n",
       "      <td>False</td>\n",
       "      <td>False</td>\n",
       "    </tr>\n",
       "    <tr>\n",
       "      <th>...</th>\n",
       "      <td>...</td>\n",
       "      <td>...</td>\n",
       "      <td>...</td>\n",
       "      <td>...</td>\n",
       "      <td>...</td>\n",
       "      <td>...</td>\n",
       "      <td>...</td>\n",
       "      <td>...</td>\n",
       "      <td>...</td>\n",
       "      <td>...</td>\n",
       "      <td>...</td>\n",
       "      <td>...</td>\n",
       "      <td>...</td>\n",
       "      <td>...</td>\n",
       "      <td>...</td>\n",
       "      <td>...</td>\n",
       "      <td>...</td>\n",
       "      <td>...</td>\n",
       "      <td>...</td>\n",
       "      <td>...</td>\n",
       "      <td>...</td>\n",
       "    </tr>\n",
       "    <tr>\n",
       "      <th>279888</th>\n",
       "      <td>90.0</td>\n",
       "      <td>4</td>\n",
       "      <td>False</td>\n",
       "      <td>False</td>\n",
       "      <td>True</td>\n",
       "      <td>False</td>\n",
       "      <td>False</td>\n",
       "      <td>False</td>\n",
       "      <td>False</td>\n",
       "      <td>False</td>\n",
       "      <td>...</td>\n",
       "      <td>False</td>\n",
       "      <td>False</td>\n",
       "      <td>False</td>\n",
       "      <td>False</td>\n",
       "      <td>False</td>\n",
       "      <td>False</td>\n",
       "      <td>True</td>\n",
       "      <td>False</td>\n",
       "      <td>False</td>\n",
       "      <td>False</td>\n",
       "    </tr>\n",
       "    <tr>\n",
       "      <th>111610</th>\n",
       "      <td>4400.0</td>\n",
       "      <td>22</td>\n",
       "      <td>False</td>\n",
       "      <td>False</td>\n",
       "      <td>False</td>\n",
       "      <td>False</td>\n",
       "      <td>False</td>\n",
       "      <td>False</td>\n",
       "      <td>False</td>\n",
       "      <td>False</td>\n",
       "      <td>...</td>\n",
       "      <td>False</td>\n",
       "      <td>False</td>\n",
       "      <td>False</td>\n",
       "      <td>False</td>\n",
       "      <td>False</td>\n",
       "      <td>False</td>\n",
       "      <td>False</td>\n",
       "      <td>False</td>\n",
       "      <td>True</td>\n",
       "      <td>False</td>\n",
       "    </tr>\n",
       "    <tr>\n",
       "      <th>318259</th>\n",
       "      <td>700.0</td>\n",
       "      <td>20</td>\n",
       "      <td>False</td>\n",
       "      <td>False</td>\n",
       "      <td>False</td>\n",
       "      <td>False</td>\n",
       "      <td>False</td>\n",
       "      <td>False</td>\n",
       "      <td>False</td>\n",
       "      <td>False</td>\n",
       "      <td>...</td>\n",
       "      <td>False</td>\n",
       "      <td>False</td>\n",
       "      <td>False</td>\n",
       "      <td>False</td>\n",
       "      <td>False</td>\n",
       "      <td>False</td>\n",
       "      <td>True</td>\n",
       "      <td>False</td>\n",
       "      <td>False</td>\n",
       "      <td>False</td>\n",
       "    </tr>\n",
       "    <tr>\n",
       "      <th>134789</th>\n",
       "      <td>6590.0</td>\n",
       "      <td>10</td>\n",
       "      <td>False</td>\n",
       "      <td>False</td>\n",
       "      <td>True</td>\n",
       "      <td>False</td>\n",
       "      <td>False</td>\n",
       "      <td>False</td>\n",
       "      <td>False</td>\n",
       "      <td>False</td>\n",
       "      <td>...</td>\n",
       "      <td>False</td>\n",
       "      <td>False</td>\n",
       "      <td>False</td>\n",
       "      <td>False</td>\n",
       "      <td>False</td>\n",
       "      <td>False</td>\n",
       "      <td>False</td>\n",
       "      <td>False</td>\n",
       "      <td>False</td>\n",
       "      <td>False</td>\n",
       "    </tr>\n",
       "    <tr>\n",
       "      <th>146124</th>\n",
       "      <td>586.0</td>\n",
       "      <td>19</td>\n",
       "      <td>False</td>\n",
       "      <td>False</td>\n",
       "      <td>False</td>\n",
       "      <td>False</td>\n",
       "      <td>False</td>\n",
       "      <td>False</td>\n",
       "      <td>False</td>\n",
       "      <td>False</td>\n",
       "      <td>...</td>\n",
       "      <td>False</td>\n",
       "      <td>False</td>\n",
       "      <td>False</td>\n",
       "      <td>False</td>\n",
       "      <td>False</td>\n",
       "      <td>False</td>\n",
       "      <td>True</td>\n",
       "      <td>False</td>\n",
       "      <td>False</td>\n",
       "      <td>False</td>\n",
       "    </tr>\n",
       "  </tbody>\n",
       "</table>\n",
       "<p>57532 rows × 757 columns</p>\n",
       "</div>"
      ],
      "text/plain": [
       "           Area  Crop  Andhra Pradesh  Arunachal Pradesh  Assam  Bihar  \\\n",
       "121231    257.0     0           False              False  False  False   \n",
       "112176   3028.0     1           False              False  False  False   \n",
       "335930    113.0     2           False              False  False  False   \n",
       "151878     28.0     3           False              False  False  False   \n",
       "7001    23959.0     4           False              False  False   True   \n",
       "...         ...   ...             ...                ...    ...    ...   \n",
       "279888     90.0     4           False              False   True  False   \n",
       "111610   4400.0    22           False              False  False  False   \n",
       "318259    700.0    20           False              False  False  False   \n",
       "134789   6590.0    10           False              False   True  False   \n",
       "146124    586.0    19           False              False  False  False   \n",
       "\n",
       "        Chandigarh  Chhattisgarh  Dadra and Nagar Haveli  Daman and Diu  ...  \\\n",
       "121231       False         False                   False          False  ...   \n",
       "112176       False         False                   False          False  ...   \n",
       "335930       False         False                   False          False  ...   \n",
       "151878       False         False                   False          False  ...   \n",
       "7001         False         False                   False          False  ...   \n",
       "...            ...           ...                     ...            ...  ...   \n",
       "279888       False         False                   False          False  ...   \n",
       "111610       False         False                   False          False  ...   \n",
       "318259       False         False                   False          False  ...   \n",
       "134789       False         False                   False          False  ...   \n",
       "146124       False         False                   False          False  ...   \n",
       "\n",
       "        YADGIR  YAMUNANAGAR  YANAM  YAVATMAL  ZUNHEBOTO  Kharif   Rabi  \\\n",
       "121231   False        False  False     False      False    True  False   \n",
       "112176   False        False  False     False      False    True  False   \n",
       "335930   False        False  False     False      False    True  False   \n",
       "151878   False        False  False     False      False    True  False   \n",
       "7001     False        False  False     False      False   False  False   \n",
       "...        ...          ...    ...       ...        ...     ...    ...   \n",
       "279888   False        False  False     False      False   False   True   \n",
       "111610   False        False  False     False      False   False  False   \n",
       "318259   False        False  False     False      False   False   True   \n",
       "134789   False        False  False     False      False   False  False   \n",
       "146124   False        False  False     False      False   False   True   \n",
       "\n",
       "        Summer  Whole Year  Winter  \n",
       "121231   False       False   False  \n",
       "112176   False       False   False  \n",
       "335930   False       False   False  \n",
       "151878   False       False   False  \n",
       "7001      True       False   False  \n",
       "...        ...         ...     ...  \n",
       "279888   False       False   False  \n",
       "111610   False        True   False  \n",
       "318259   False       False   False  \n",
       "134789   False       False   False  \n",
       "146124   False       False   False  \n",
       "\n",
       "[57532 rows x 757 columns]"
      ]
     },
     "execution_count": 44,
     "metadata": {},
     "output_type": "execute_result"
    }
   ],
   "source": [
    "new_data"
   ]
  },
  {
   "cell_type": "code",
   "execution_count": 45,
   "id": "74757f23",
   "metadata": {
    "execution": {
     "iopub.execute_input": "2023-03-04T20:50:55.528162Z",
     "iopub.status.busy": "2023-03-04T20:50:55.527795Z",
     "iopub.status.idle": "2023-03-04T20:50:55.561011Z",
     "shell.execute_reply": "2023-03-04T20:50:55.559512Z"
    },
    "papermill": {
     "duration": 0.061626,
     "end_time": "2023-03-04T20:50:55.563494",
     "exception": false,
     "start_time": "2023-03-04T20:50:55.501868",
     "status": "completed"
    },
    "tags": []
   },
   "outputs": [],
   "source": [
    "X=new_data.drop('Crop',axis=1)\n",
    "Y=new_data['Crop']\n"
   ]
  },
  {
   "cell_type": "code",
   "execution_count": 46,
   "id": "77d7793c",
   "metadata": {
    "execution": {
     "iopub.execute_input": "2023-03-04T20:50:55.615690Z",
     "iopub.status.busy": "2023-03-04T20:50:55.615324Z",
     "iopub.status.idle": "2023-03-04T20:50:55.629284Z",
     "shell.execute_reply": "2023-03-04T20:50:55.628029Z"
    },
    "papermill": {
     "duration": 0.042504,
     "end_time": "2023-03-04T20:50:55.631250",
     "exception": false,
     "start_time": "2023-03-04T20:50:55.588746",
     "status": "completed"
    },
    "tags": []
   },
   "outputs": [
    {
     "data": {
      "text/plain": [
       "Crop\n",
       "Rice                     5421\n",
       "Maize                    5163\n",
       "Moong(Green Gram)        3655\n",
       "Urad                     3613\n",
       "Sesamum                  3185\n",
       "Groundnut                3063\n",
       "Onion                    2752\n",
       "Wheat                    2749\n",
       "Rapeseed &Mustard        2710\n",
       "Arhar/Tur                2671\n",
       "Sugarcane                2658\n",
       "Potato                   2560\n",
       "Gram                     2514\n",
       "Jowar                    2452\n",
       "Dry chillies             2255\n",
       "Bajra                    1929\n",
       "Peas & beans (Pulses)    1780\n",
       "Sunflower                1767\n",
       "Small millets            1736\n",
       "Cotton(lint)             1589\n",
       "Masoor                   1566\n",
       "Ragi                     1485\n",
       "Turmeric                 1465\n",
       "Barley                   1453\n",
       "Sweet potato             1425\n",
       "Linseed                  1413\n",
       "Other Kharif pulses      1396\n",
       "Horse-gram               1296\n",
       "Garlic                   1270\n",
       "Coriander                1260\n",
       "Soyabean                 1259\n",
       "Ginger                   1176\n",
       "Castor seed              1127\n",
       "Other Rabi pulses        1124\n",
       "Banana                   1075\n",
       "Tobacco                   881\n",
       "Coconut                   726\n",
       "Sannhamp                  721\n",
       "Niger seed                677\n",
       "Mesta                     601\n",
       "Tapioca                   580\n",
       "Arecanut                  532\n",
       "Guar seed                 525\n",
       "Jute                      491\n",
       "Khesari                   465\n",
       "Safflower                 449\n",
       "Cowpea(Lobia)             415\n",
       "Cashewnut                 365\n",
       "Moth                      341\n",
       "Other Cereals             331\n",
       "Black pepper              324\n",
       "other oilseeds            322\n",
       "Oilseeds total            179\n",
       "Cardamom                  111\n",
       "Other Summer Pulses        13\n",
       "Name: count, dtype: int64"
      ]
     },
     "execution_count": 46,
     "metadata": {},
     "output_type": "execute_result"
    }
   ],
   "source": [
    "df['Crop'].value_counts()"
   ]
  },
  {
   "cell_type": "code",
   "execution_count": 47,
   "id": "a6440f23",
   "metadata": {
    "execution": {
     "iopub.execute_input": "2023-03-04T20:50:55.857171Z",
     "iopub.status.busy": "2023-03-04T20:50:55.856760Z",
     "iopub.status.idle": "2023-03-04T20:50:56.070537Z",
     "shell.execute_reply": "2023-03-04T20:50:56.069291Z"
    },
    "papermill": {
     "duration": 0.24276,
     "end_time": "2023-03-04T20:50:56.072890",
     "exception": false,
     "start_time": "2023-03-04T20:50:55.830130",
     "status": "completed"
    },
    "tags": []
   },
   "outputs": [],
   "source": [
    "from sklearn.pipeline import Pipeline\n",
    "from sklearn.model_selection import train_test_split\n"
   ]
  },
  {
   "cell_type": "code",
   "execution_count": 48,
   "id": "8cff6c6f",
   "metadata": {
    "execution": {
     "iopub.execute_input": "2023-03-04T20:50:56.129053Z",
     "iopub.status.busy": "2023-03-04T20:50:56.128288Z",
     "iopub.status.idle": "2023-03-04T20:50:56.236198Z",
     "shell.execute_reply": "2023-03-04T20:50:56.235114Z"
    },
    "papermill": {
     "duration": 0.140332,
     "end_time": "2023-03-04T20:50:56.239078",
     "exception": false,
     "start_time": "2023-03-04T20:50:56.098746",
     "status": "completed"
    },
    "tags": []
   },
   "outputs": [],
   "source": [
    "x_train,x_test,y_train,y_test=train_test_split(X,Y,test_size=0.2,random_state=567)"
   ]
  },
  {
   "cell_type": "code",
   "execution_count": 49,
   "id": "f3b45a39",
   "metadata": {
    "execution": {
     "iopub.execute_input": "2023-03-04T20:50:56.293587Z",
     "iopub.status.busy": "2023-03-04T20:50:56.293230Z",
     "iopub.status.idle": "2023-03-04T20:50:56.299512Z",
     "shell.execute_reply": "2023-03-04T20:50:56.298722Z"
    },
    "papermill": {
     "duration": 0.035111,
     "end_time": "2023-03-04T20:50:56.301174",
     "exception": false,
     "start_time": "2023-03-04T20:50:56.266063",
     "status": "completed"
    },
    "tags": []
   },
   "outputs": [
    {
     "data": {
      "text/plain": [
       "((46025, 756), (46025,))"
      ]
     },
     "execution_count": 49,
     "metadata": {},
     "output_type": "execute_result"
    }
   ],
   "source": [
    "x_train.shape,y_train.shape"
   ]
  },
  {
   "cell_type": "code",
   "execution_count": 50,
   "id": "c0c11604",
   "metadata": {
    "execution": {
     "iopub.execute_input": "2023-03-04T20:50:56.356084Z",
     "iopub.status.busy": "2023-03-04T20:50:56.355631Z",
     "iopub.status.idle": "2023-03-04T20:50:56.671956Z",
     "shell.execute_reply": "2023-03-04T20:50:56.670899Z"
    },
    "papermill": {
     "duration": 0.347036,
     "end_time": "2023-03-04T20:50:56.674331",
     "exception": false,
     "start_time": "2023-03-04T20:50:56.327295",
     "status": "completed"
    },
    "tags": []
   },
   "outputs": [],
   "source": [
    "## import libraries\n",
    "from sklearn.linear_model import LogisticRegression\n",
    "from sklearn.ensemble import RandomForestClassifier,VotingClassifier\n",
    "from sklearn.tree import DecisionTreeClassifier\n",
    "from sklearn.naive_bayes import GaussianNB\n",
    "from sklearn.neighbors import KNeighborsClassifier\n",
    "from sklearn.metrics import log_loss\n",
    "from sklearn.decomposition import PCA\n",
    "from sklearn.preprocessing import MinMaxScaler"
   ]
  },
  {
   "cell_type": "code",
   "execution_count": 51,
   "id": "f753f4e9",
   "metadata": {
    "execution": {
     "iopub.execute_input": "2023-03-04T20:50:56.726839Z",
     "iopub.status.busy": "2023-03-04T20:50:56.725958Z",
     "iopub.status.idle": "2023-03-04T20:50:57.032610Z",
     "shell.execute_reply": "2023-03-04T20:50:57.031615Z"
    },
    "papermill": {
     "duration": 0.33526,
     "end_time": "2023-03-04T20:50:57.035027",
     "exception": false,
     "start_time": "2023-03-04T20:50:56.699767",
     "status": "completed"
    },
    "tags": []
   },
   "outputs": [],
   "source": [
    "scaler=MinMaxScaler()\n",
    "scaler.fit(X)\n",
    "scaled_data=scaler.transform(X)"
   ]
  },
  {
   "cell_type": "code",
   "execution_count": 55,
   "id": "ac67e5f6",
   "metadata": {
    "execution": {
     "iopub.execute_input": "2023-03-04T20:50:57.089114Z",
     "iopub.status.busy": "2023-03-04T20:50:57.088731Z",
     "iopub.status.idle": "2023-03-04T20:50:58.995590Z",
     "shell.execute_reply": "2023-03-04T20:50:58.994882Z"
    },
    "papermill": {
     "duration": 1.937203,
     "end_time": "2023-03-04T20:50:58.997578",
     "exception": false,
     "start_time": "2023-03-04T20:50:57.060375",
     "status": "completed"
    },
    "tags": []
   },
   "outputs": [
    {
     "data": {
      "text/plain": [
       "(57766, 2)"
      ]
     },
     "execution_count": 55,
     "metadata": {},
     "output_type": "execute_result"
    }
   ],
   "source": [
    "pca=PCA(n_components=2)\n",
    "pca.fit(scaled_data)\n",
    "x_pca=pca.transform(scaled_data)\n",
    "x_pca.shape"
   ]
  },
  {
   "cell_type": "code",
   "execution_count": 52,
   "id": "f746ac37",
   "metadata": {
    "execution": {
     "iopub.execute_input": "2023-03-04T20:50:59.069467Z",
     "iopub.status.busy": "2023-03-04T20:50:59.069114Z",
     "iopub.status.idle": "2023-03-04T20:50:59.320908Z",
     "shell.execute_reply": "2023-03-04T20:50:59.319710Z"
    },
    "papermill": {
     "duration": 0.289839,
     "end_time": "2023-03-04T20:50:59.322883",
     "exception": false,
     "start_time": "2023-03-04T20:50:59.033044",
     "status": "completed"
    },
    "tags": []
   },
   "outputs": [
    {
     "data": {
      "text/html": [
       "<div>\n",
       "<style scoped>\n",
       "    .dataframe tbody tr th:only-of-type {\n",
       "        vertical-align: middle;\n",
       "    }\n",
       "\n",
       "    .dataframe tbody tr th {\n",
       "        vertical-align: top;\n",
       "    }\n",
       "\n",
       "    .dataframe thead th {\n",
       "        text-align: right;\n",
       "    }\n",
       "</style>\n",
       "<table border=\"1\" class=\"dataframe\">\n",
       "  <thead>\n",
       "    <tr style=\"text-align: right;\">\n",
       "      <th></th>\n",
       "      <th>Crop</th>\n",
       "      <th>Area</th>\n",
       "      <th>Andhra Pradesh</th>\n",
       "      <th>Arunachal Pradesh</th>\n",
       "      <th>Assam</th>\n",
       "      <th>Bihar</th>\n",
       "      <th>Chandigarh</th>\n",
       "      <th>Chhattisgarh</th>\n",
       "      <th>Dadra and Nagar Haveli</th>\n",
       "      <th>Daman and Diu</th>\n",
       "      <th>...</th>\n",
       "      <th>YADGIR</th>\n",
       "      <th>YAMUNANAGAR</th>\n",
       "      <th>YANAM</th>\n",
       "      <th>YAVATMAL</th>\n",
       "      <th>ZUNHEBOTO</th>\n",
       "      <th>Kharif</th>\n",
       "      <th>Rabi</th>\n",
       "      <th>Summer</th>\n",
       "      <th>Whole Year</th>\n",
       "      <th>Winter</th>\n",
       "    </tr>\n",
       "  </thead>\n",
       "  <tbody>\n",
       "    <tr>\n",
       "      <th>0</th>\n",
       "      <td>0</td>\n",
       "      <td>0.000268</td>\n",
       "      <td>0.0</td>\n",
       "      <td>0.0</td>\n",
       "      <td>0.0</td>\n",
       "      <td>0.0</td>\n",
       "      <td>0.0</td>\n",
       "      <td>0.0</td>\n",
       "      <td>0.0</td>\n",
       "      <td>0.0</td>\n",
       "      <td>...</td>\n",
       "      <td>0.0</td>\n",
       "      <td>0.0</td>\n",
       "      <td>0.0</td>\n",
       "      <td>0.0</td>\n",
       "      <td>0.0</td>\n",
       "      <td>1.0</td>\n",
       "      <td>0.0</td>\n",
       "      <td>0.0</td>\n",
       "      <td>0.0</td>\n",
       "      <td>0.0</td>\n",
       "    </tr>\n",
       "    <tr>\n",
       "      <th>1</th>\n",
       "      <td>1</td>\n",
       "      <td>0.003162</td>\n",
       "      <td>0.0</td>\n",
       "      <td>0.0</td>\n",
       "      <td>0.0</td>\n",
       "      <td>0.0</td>\n",
       "      <td>0.0</td>\n",
       "      <td>0.0</td>\n",
       "      <td>0.0</td>\n",
       "      <td>0.0</td>\n",
       "      <td>...</td>\n",
       "      <td>0.0</td>\n",
       "      <td>0.0</td>\n",
       "      <td>0.0</td>\n",
       "      <td>0.0</td>\n",
       "      <td>0.0</td>\n",
       "      <td>1.0</td>\n",
       "      <td>0.0</td>\n",
       "      <td>0.0</td>\n",
       "      <td>0.0</td>\n",
       "      <td>0.0</td>\n",
       "    </tr>\n",
       "    <tr>\n",
       "      <th>2</th>\n",
       "      <td>2</td>\n",
       "      <td>0.000118</td>\n",
       "      <td>0.0</td>\n",
       "      <td>0.0</td>\n",
       "      <td>0.0</td>\n",
       "      <td>0.0</td>\n",
       "      <td>0.0</td>\n",
       "      <td>0.0</td>\n",
       "      <td>0.0</td>\n",
       "      <td>0.0</td>\n",
       "      <td>...</td>\n",
       "      <td>0.0</td>\n",
       "      <td>0.0</td>\n",
       "      <td>0.0</td>\n",
       "      <td>0.0</td>\n",
       "      <td>0.0</td>\n",
       "      <td>1.0</td>\n",
       "      <td>0.0</td>\n",
       "      <td>0.0</td>\n",
       "      <td>0.0</td>\n",
       "      <td>0.0</td>\n",
       "    </tr>\n",
       "    <tr>\n",
       "      <th>3</th>\n",
       "      <td>3</td>\n",
       "      <td>0.000029</td>\n",
       "      <td>0.0</td>\n",
       "      <td>0.0</td>\n",
       "      <td>0.0</td>\n",
       "      <td>0.0</td>\n",
       "      <td>0.0</td>\n",
       "      <td>0.0</td>\n",
       "      <td>0.0</td>\n",
       "      <td>0.0</td>\n",
       "      <td>...</td>\n",
       "      <td>0.0</td>\n",
       "      <td>0.0</td>\n",
       "      <td>0.0</td>\n",
       "      <td>0.0</td>\n",
       "      <td>0.0</td>\n",
       "      <td>1.0</td>\n",
       "      <td>0.0</td>\n",
       "      <td>0.0</td>\n",
       "      <td>0.0</td>\n",
       "      <td>0.0</td>\n",
       "    </tr>\n",
       "    <tr>\n",
       "      <th>4</th>\n",
       "      <td>4</td>\n",
       "      <td>0.025018</td>\n",
       "      <td>0.0</td>\n",
       "      <td>0.0</td>\n",
       "      <td>0.0</td>\n",
       "      <td>1.0</td>\n",
       "      <td>0.0</td>\n",
       "      <td>0.0</td>\n",
       "      <td>0.0</td>\n",
       "      <td>0.0</td>\n",
       "      <td>...</td>\n",
       "      <td>0.0</td>\n",
       "      <td>0.0</td>\n",
       "      <td>0.0</td>\n",
       "      <td>0.0</td>\n",
       "      <td>0.0</td>\n",
       "      <td>0.0</td>\n",
       "      <td>0.0</td>\n",
       "      <td>1.0</td>\n",
       "      <td>0.0</td>\n",
       "      <td>0.0</td>\n",
       "    </tr>\n",
       "    <tr>\n",
       "      <th>...</th>\n",
       "      <td>...</td>\n",
       "      <td>...</td>\n",
       "      <td>...</td>\n",
       "      <td>...</td>\n",
       "      <td>...</td>\n",
       "      <td>...</td>\n",
       "      <td>...</td>\n",
       "      <td>...</td>\n",
       "      <td>...</td>\n",
       "      <td>...</td>\n",
       "      <td>...</td>\n",
       "      <td>...</td>\n",
       "      <td>...</td>\n",
       "      <td>...</td>\n",
       "      <td>...</td>\n",
       "      <td>...</td>\n",
       "      <td>...</td>\n",
       "      <td>...</td>\n",
       "      <td>...</td>\n",
       "      <td>...</td>\n",
       "      <td>...</td>\n",
       "    </tr>\n",
       "    <tr>\n",
       "      <th>57527</th>\n",
       "      <td>4</td>\n",
       "      <td>0.000094</td>\n",
       "      <td>0.0</td>\n",
       "      <td>0.0</td>\n",
       "      <td>1.0</td>\n",
       "      <td>0.0</td>\n",
       "      <td>0.0</td>\n",
       "      <td>0.0</td>\n",
       "      <td>0.0</td>\n",
       "      <td>0.0</td>\n",
       "      <td>...</td>\n",
       "      <td>0.0</td>\n",
       "      <td>0.0</td>\n",
       "      <td>0.0</td>\n",
       "      <td>0.0</td>\n",
       "      <td>0.0</td>\n",
       "      <td>0.0</td>\n",
       "      <td>1.0</td>\n",
       "      <td>0.0</td>\n",
       "      <td>0.0</td>\n",
       "      <td>0.0</td>\n",
       "    </tr>\n",
       "    <tr>\n",
       "      <th>57528</th>\n",
       "      <td>22</td>\n",
       "      <td>0.004594</td>\n",
       "      <td>0.0</td>\n",
       "      <td>0.0</td>\n",
       "      <td>0.0</td>\n",
       "      <td>0.0</td>\n",
       "      <td>0.0</td>\n",
       "      <td>0.0</td>\n",
       "      <td>0.0</td>\n",
       "      <td>0.0</td>\n",
       "      <td>...</td>\n",
       "      <td>0.0</td>\n",
       "      <td>0.0</td>\n",
       "      <td>0.0</td>\n",
       "      <td>0.0</td>\n",
       "      <td>0.0</td>\n",
       "      <td>0.0</td>\n",
       "      <td>0.0</td>\n",
       "      <td>0.0</td>\n",
       "      <td>1.0</td>\n",
       "      <td>0.0</td>\n",
       "    </tr>\n",
       "    <tr>\n",
       "      <th>57529</th>\n",
       "      <td>20</td>\n",
       "      <td>0.000731</td>\n",
       "      <td>0.0</td>\n",
       "      <td>0.0</td>\n",
       "      <td>0.0</td>\n",
       "      <td>0.0</td>\n",
       "      <td>0.0</td>\n",
       "      <td>0.0</td>\n",
       "      <td>0.0</td>\n",
       "      <td>0.0</td>\n",
       "      <td>...</td>\n",
       "      <td>0.0</td>\n",
       "      <td>0.0</td>\n",
       "      <td>0.0</td>\n",
       "      <td>0.0</td>\n",
       "      <td>0.0</td>\n",
       "      <td>0.0</td>\n",
       "      <td>1.0</td>\n",
       "      <td>0.0</td>\n",
       "      <td>0.0</td>\n",
       "      <td>0.0</td>\n",
       "    </tr>\n",
       "    <tr>\n",
       "      <th>57530</th>\n",
       "      <td>10</td>\n",
       "      <td>0.006881</td>\n",
       "      <td>0.0</td>\n",
       "      <td>0.0</td>\n",
       "      <td>1.0</td>\n",
       "      <td>0.0</td>\n",
       "      <td>0.0</td>\n",
       "      <td>0.0</td>\n",
       "      <td>0.0</td>\n",
       "      <td>0.0</td>\n",
       "      <td>...</td>\n",
       "      <td>0.0</td>\n",
       "      <td>0.0</td>\n",
       "      <td>0.0</td>\n",
       "      <td>0.0</td>\n",
       "      <td>0.0</td>\n",
       "      <td>0.0</td>\n",
       "      <td>0.0</td>\n",
       "      <td>0.0</td>\n",
       "      <td>0.0</td>\n",
       "      <td>0.0</td>\n",
       "    </tr>\n",
       "    <tr>\n",
       "      <th>57531</th>\n",
       "      <td>19</td>\n",
       "      <td>0.000612</td>\n",
       "      <td>0.0</td>\n",
       "      <td>0.0</td>\n",
       "      <td>0.0</td>\n",
       "      <td>0.0</td>\n",
       "      <td>0.0</td>\n",
       "      <td>0.0</td>\n",
       "      <td>0.0</td>\n",
       "      <td>0.0</td>\n",
       "      <td>...</td>\n",
       "      <td>0.0</td>\n",
       "      <td>0.0</td>\n",
       "      <td>0.0</td>\n",
       "      <td>0.0</td>\n",
       "      <td>0.0</td>\n",
       "      <td>0.0</td>\n",
       "      <td>1.0</td>\n",
       "      <td>0.0</td>\n",
       "      <td>0.0</td>\n",
       "      <td>0.0</td>\n",
       "    </tr>\n",
       "  </tbody>\n",
       "</table>\n",
       "<p>57532 rows × 757 columns</p>\n",
       "</div>"
      ],
      "text/plain": [
       "       Crop      Area  Andhra Pradesh  Arunachal Pradesh  Assam  Bihar  \\\n",
       "0         0  0.000268             0.0                0.0    0.0    0.0   \n",
       "1         1  0.003162             0.0                0.0    0.0    0.0   \n",
       "2         2  0.000118             0.0                0.0    0.0    0.0   \n",
       "3         3  0.000029             0.0                0.0    0.0    0.0   \n",
       "4         4  0.025018             0.0                0.0    0.0    1.0   \n",
       "...     ...       ...             ...                ...    ...    ...   \n",
       "57527     4  0.000094             0.0                0.0    1.0    0.0   \n",
       "57528    22  0.004594             0.0                0.0    0.0    0.0   \n",
       "57529    20  0.000731             0.0                0.0    0.0    0.0   \n",
       "57530    10  0.006881             0.0                0.0    1.0    0.0   \n",
       "57531    19  0.000612             0.0                0.0    0.0    0.0   \n",
       "\n",
       "       Chandigarh  Chhattisgarh  Dadra and Nagar Haveli  Daman and Diu  ...  \\\n",
       "0             0.0           0.0                     0.0            0.0  ...   \n",
       "1             0.0           0.0                     0.0            0.0  ...   \n",
       "2             0.0           0.0                     0.0            0.0  ...   \n",
       "3             0.0           0.0                     0.0            0.0  ...   \n",
       "4             0.0           0.0                     0.0            0.0  ...   \n",
       "...           ...           ...                     ...            ...  ...   \n",
       "57527         0.0           0.0                     0.0            0.0  ...   \n",
       "57528         0.0           0.0                     0.0            0.0  ...   \n",
       "57529         0.0           0.0                     0.0            0.0  ...   \n",
       "57530         0.0           0.0                     0.0            0.0  ...   \n",
       "57531         0.0           0.0                     0.0            0.0  ...   \n",
       "\n",
       "       YADGIR  YAMUNANAGAR  YANAM  YAVATMAL  ZUNHEBOTO  Kharif  Rabi  Summer  \\\n",
       "0         0.0          0.0    0.0       0.0        0.0     1.0   0.0     0.0   \n",
       "1         0.0          0.0    0.0       0.0        0.0     1.0   0.0     0.0   \n",
       "2         0.0          0.0    0.0       0.0        0.0     1.0   0.0     0.0   \n",
       "3         0.0          0.0    0.0       0.0        0.0     1.0   0.0     0.0   \n",
       "4         0.0          0.0    0.0       0.0        0.0     0.0   0.0     1.0   \n",
       "...       ...          ...    ...       ...        ...     ...   ...     ...   \n",
       "57527     0.0          0.0    0.0       0.0        0.0     0.0   1.0     0.0   \n",
       "57528     0.0          0.0    0.0       0.0        0.0     0.0   0.0     0.0   \n",
       "57529     0.0          0.0    0.0       0.0        0.0     0.0   1.0     0.0   \n",
       "57530     0.0          0.0    0.0       0.0        0.0     0.0   0.0     0.0   \n",
       "57531     0.0          0.0    0.0       0.0        0.0     0.0   1.0     0.0   \n",
       "\n",
       "       Whole Year  Winter  \n",
       "0             0.0     0.0  \n",
       "1             0.0     0.0  \n",
       "2             0.0     0.0  \n",
       "3             0.0     0.0  \n",
       "4             0.0     0.0  \n",
       "...           ...     ...  \n",
       "57527         0.0     0.0  \n",
       "57528         1.0     0.0  \n",
       "57529         0.0     0.0  \n",
       "57530         0.0     0.0  \n",
       "57531         0.0     0.0  \n",
       "\n",
       "[57532 rows x 757 columns]"
      ]
     },
     "execution_count": 52,
     "metadata": {},
     "output_type": "execute_result"
    }
   ],
   "source": [
    "feature_scale= [feature for feature in new_data.columns if feature!='Crop']\n",
    "new_data=pd.concat([new_data['Crop'].reset_index(drop=True),\n",
    "                    pd.DataFrame(scaler.transform(X), columns=feature_scale)],\n",
    "                    axis=1)\n",
    "new_data"
   ]
  },
  {
   "cell_type": "code",
   "execution_count": 53,
   "id": "972e8cd8",
   "metadata": {
    "execution": {
     "iopub.execute_input": "2023-03-04T20:50:59.380825Z",
     "iopub.status.busy": "2023-03-04T20:50:59.379835Z",
     "iopub.status.idle": "2023-03-04T20:50:59.387059Z",
     "shell.execute_reply": "2023-03-04T20:50:59.386039Z"
    },
    "papermill": {
     "duration": 0.039674,
     "end_time": "2023-03-04T20:50:59.388993",
     "exception": false,
     "start_time": "2023-03-04T20:50:59.349319",
     "status": "completed"
    },
    "tags": []
   },
   "outputs": [
    {
     "data": {
      "text/plain": [
       "Index(['Area', 'Andhra Pradesh', 'Arunachal Pradesh', 'Assam', 'Bihar',\n",
       "       'Chandigarh', 'Chhattisgarh', 'Dadra and Nagar Haveli', 'Daman and Diu',\n",
       "       'Delhi',\n",
       "       ...\n",
       "       'YADGIR', 'YAMUNANAGAR', 'YANAM', 'YAVATMAL', 'ZUNHEBOTO', 'Kharif',\n",
       "       'Rabi', 'Summer', 'Whole Year', 'Winter'],\n",
       "      dtype='object', length=756)"
      ]
     },
     "execution_count": 53,
     "metadata": {},
     "output_type": "execute_result"
    }
   ],
   "source": [
    "x_train.columns\n",
    "   "
   ]
  },
  {
   "cell_type": "code",
   "execution_count": 54,
   "id": "53b419bb",
   "metadata": {
    "execution": {
     "iopub.execute_input": "2023-03-04T20:50:59.443194Z",
     "iopub.status.busy": "2023-03-04T20:50:59.442102Z",
     "iopub.status.idle": "2023-03-04T20:50:59.447856Z",
     "shell.execute_reply": "2023-03-04T20:50:59.446906Z"
    },
    "papermill": {
     "duration": 0.034272,
     "end_time": "2023-03-04T20:50:59.449702",
     "exception": false,
     "start_time": "2023-03-04T20:50:59.415430",
     "status": "completed"
    },
    "tags": []
   },
   "outputs": [],
   "source": [
    "model_1 = LogisticRegression()\n",
    "model_2 = KNeighborsClassifier(n_neighbors=21)\n",
    "model_3 = RandomForestClassifier()"
   ]
  },
  {
   "cell_type": "code",
   "execution_count": 55,
   "id": "5f222fc8",
   "metadata": {
    "execution": {
     "iopub.execute_input": "2023-03-04T20:50:59.503156Z",
     "iopub.status.busy": "2023-03-04T20:50:59.501933Z",
     "iopub.status.idle": "2023-03-04T20:50:59.507670Z",
     "shell.execute_reply": "2023-03-04T20:50:59.506517Z"
    },
    "papermill": {
     "duration": 0.034828,
     "end_time": "2023-03-04T20:50:59.509672",
     "exception": false,
     "start_time": "2023-03-04T20:50:59.474844",
     "status": "completed"
    },
    "tags": []
   },
   "outputs": [],
   "source": [
    "model=VotingClassifier(estimators=[('lr', LogisticRegression()),\n",
    "                             ('knn', KNeighborsClassifier(n_neighbors=21)),\n",
    "                             ('rf', RandomForestClassifier())],\n",
    "                             voting='soft')"
   ]
  },
  {
   "cell_type": "markdown",
   "id": "e109441e",
   "metadata": {
    "papermill": {
     "duration": 0.026924,
     "end_time": "2023-03-04T20:53:46.196762",
     "exception": false,
     "start_time": "2023-03-04T20:53:46.169838",
     "status": "completed"
    },
    "tags": []
   },
   "source": [
    "***As  we got log loss value is nearer to 0 . So Model is decent one.** *"
   ]
  }
 ],
 "metadata": {
  "kernelspec": {
   "display_name": "Python 3",
   "language": "python",
   "name": "python3"
  },
  "language_info": {
   "codemirror_mode": {
    "name": "ipython",
    "version": 3
   },
   "file_extension": ".py",
   "mimetype": "text/x-python",
   "name": "python",
   "nbconvert_exporter": "python",
   "pygments_lexer": "ipython3",
   "version": "3.11.9"
  },
  "papermill": {
   "default_parameters": {},
   "duration": 199.391806,
   "end_time": "2023-03-04T20:53:47.264828",
   "environment_variables": {},
   "exception": null,
   "input_path": "__notebook__.ipynb",
   "output_path": "__notebook__.ipynb",
   "parameters": {},
   "start_time": "2023-03-04T20:50:27.873022",
   "version": "2.4.0"
  }
 },
 "nbformat": 4,
 "nbformat_minor": 5
}
